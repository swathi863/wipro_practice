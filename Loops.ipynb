{
  "nbformat": 4,
  "nbformat_minor": 0,
  "metadata": {
    "colab": {
      "provenance": [],
      "authorship_tag": "ABX9TyOHct0Bn3ZpoesFRSliBNch",
      "include_colab_link": true
    },
    "kernelspec": {
      "name": "python3",
      "display_name": "Python 3"
    },
    "language_info": {
      "name": "python"
    }
  },
  "cells": [
    {
      "cell_type": "markdown",
      "metadata": {
        "id": "view-in-github",
        "colab_type": "text"
      },
      "source": [
        "<a href=\"https://colab.research.google.com/github/swathi863/wipro_practice/blob/main/Loops.ipynb\" target=\"_parent\"><img src=\"https://colab.research.google.com/assets/colab-badge.svg\" alt=\"Open In Colab\"/></a>"
      ]
    },
    {
      "cell_type": "code",
      "execution_count": null,
      "metadata": {
        "colab": {
          "base_uri": "https://localhost:8080/"
        },
        "id": "VeWJaOF4QzEM",
        "outputId": "5d774f31-e0a3-481d-9605-fb1e6c1be05e"
      },
      "outputs": [
        {
          "output_type": "stream",
          "name": "stdout",
          "text": [
            "0 2 4 6 8 10 12 14 16 18 20 22 24 26 28 30 32 34 36 38 40 42 44 46 48 50 52 54 56 58 60 62 64 66 68 70 72 74 76 78 80 82 84 86 88 90 92 94 96 98 100 "
          ]
        }
      ],
      "source": [
        "\"Write a program to print alternative numbers starting from 0 to 100\"\n",
        "for i in range(0,101,2):\n",
        "    print(i,end=\" \")"
      ]
    },
    {
      "cell_type": "code",
      "source": [
        "\"Write a program to accept a number N and print whether the number is EVEN or ODD.\"\n",
        "\n",
        "num=int(input(\"enter a number:\"))\n",
        "if num%2==0:\n",
        "    print(\"EVEN\")\n",
        "else:\n",
        "    print(\"ODD\")"
      ],
      "metadata": {
        "colab": {
          "base_uri": "https://localhost:8080/"
        },
        "id": "PC15-h_jQ-nJ",
        "outputId": "9e2c5d48-9a3f-41e7-ed6f-17722522e964"
      },
      "execution_count": null,
      "outputs": [
        {
          "output_type": "stream",
          "name": "stdout",
          "text": [
            "enter a number:22\n",
            "EVEN\n"
          ]
        }
      ]
    },
    {
      "cell_type": "code",
      "source": [
        "\"Write a program to accept a 2 numbers  and print whether the sum is EVEN or ODD.\"\n",
        "\n",
        "num1=int(input(\"enter a number1:\"))\n",
        "num2=int(input(\"enter a number2:\"))\n",
        "sum1=num1+num2\n",
        "if sum1%2==0:\n",
        "    print(\"EVEN\")\n",
        "else:\n",
        "    print(\"ODD\")"
      ],
      "metadata": {
        "colab": {
          "base_uri": "https://localhost:8080/"
        },
        "id": "p_OZsjwpRPxv",
        "outputId": "da422930-337c-40f0-9457-d5fba052b1ce"
      },
      "execution_count": null,
      "outputs": [
        {
          "output_type": "stream",
          "name": "stdout",
          "text": [
            "enter a number1:12\n",
            "enter a number2:12\n",
            "EVEN\n"
          ]
        }
      ]
    },
    {
      "cell_type": "code",
      "source": [
        "\"write a program to print all numbers from 1 to 100\"\n",
        "\n",
        "for i in range(1,101):\n",
        "    print(i,end=\" \")"
      ],
      "metadata": {
        "colab": {
          "base_uri": "https://localhost:8080/"
        },
        "id": "tEzHeKDuRaE4",
        "outputId": "5d57f872-8339-4e6a-d2d0-6702b89769d1"
      },
      "execution_count": null,
      "outputs": [
        {
          "output_type": "stream",
          "name": "stdout",
          "text": [
            "1 2 3 4 5 6 7 8 9 10 11 12 13 14 15 16 17 18 19 20 21 22 23 24 25 26 27 28 29 30 31 32 33 34 35 36 37 38 39 40 41 42 43 44 45 46 47 48 49 50 51 52 53 54 55 56 57 58 59 60 61 62 63 64 65 66 67 68 69 70 71 72 73 74 75 76 77 78 79 80 81 82 83 84 85 86 87 88 89 90 91 92 93 94 95 96 97 98 99 100 "
          ]
        }
      ]
    },
    {
      "cell_type": "code",
      "source": [
        "\"Write a program to alternative numbers starting from 1 to 99\"\n",
        "\n",
        "for  i in range(1,100,2):\n",
        "    print(i,end=\" \")"
      ],
      "metadata": {
        "colab": {
          "base_uri": "https://localhost:8080/"
        },
        "id": "6v24_lJTRf9G",
        "outputId": "3893e24c-5671-4ee3-a855-91843d7c23ec"
      },
      "execution_count": null,
      "outputs": [
        {
          "output_type": "stream",
          "name": "stdout",
          "text": [
            "1 3 5 7 9 11 13 15 17 19 21 23 25 27 29 31 33 35 37 39 41 43 45 47 49 51 53 55 57 59 61 63 65 67 69 71 73 75 77 79 81 83 85 87 89 91 93 95 97 99 "
          ]
        }
      ]
    },
    {
      "cell_type": "code",
      "source": [
        "\"write a program to print all numbers backwards from 100 to 0.\"\n",
        "for i in range(100,0,-1):\n",
        "    print(i,end=\" \")"
      ],
      "metadata": {
        "colab": {
          "base_uri": "https://localhost:8080/"
        },
        "id": "Z2SJtBx2RlK0",
        "outputId": "dd540ba8-55b2-4bb6-a7b3-a2c6947c465e"
      },
      "execution_count": null,
      "outputs": [
        {
          "output_type": "stream",
          "name": "stdout",
          "text": [
            "100 99 98 97 96 95 94 93 92 91 90 89 88 87 86 85 84 83 82 81 80 79 78 77 76 75 74 73 72 71 70 69 68 67 66 65 64 63 62 61 60 59 58 57 56 55 54 53 52 51 50 49 48 47 46 45 44 43 42 41 40 39 38 37 36 35 34 33 32 31 30 29 28 27 26 25 24 23 22 21 20 19 18 17 16 15 14 13 12 11 10 9 8 7 6 5 4 3 2 1 "
          ]
        }
      ]
    },
    {
      "cell_type": "code",
      "source": [
        "\"write a progarm to print numbers backwards from 100 to 1 by skipping 2 numbers.\"\n",
        "for i in range(100,1,-3):\n",
        "   print(i,end=\" \")"
      ],
      "metadata": {
        "colab": {
          "base_uri": "https://localhost:8080/"
        },
        "id": "xVJgzxl_Rn8G",
        "outputId": "a470ac7d-8fc1-487a-a19d-71da20451025"
      },
      "execution_count": 2,
      "outputs": [
        {
          "output_type": "stream",
          "name": "stdout",
          "text": [
            "100 97 94 91 88 85 82 79 76 73 70 67 64 61 58 55 52 49 46 43 40 37 34 31 28 25 22 19 16 13 10 7 4 "
          ]
        }
      ]
    },
    {
      "cell_type": "code",
      "source": [
        "\"Design algorithm that accepts a number and displays each digit of the number separately.\"\n",
        "num=int(input(\"enter a number:\"))\n",
        "num1=str(num)\n",
        "res=\",\".join(i for i in num1)\n",
        "print(res)"
      ],
      "metadata": {
        "id": "vWnZKrH2WmdJ",
        "colab": {
          "base_uri": "https://localhost:8080/"
        },
        "outputId": "3c699d03-6da8-4572-e388-176a51bd5f48"
      },
      "execution_count": 1,
      "outputs": [
        {
          "output_type": "stream",
          "name": "stdout",
          "text": [
            "enter a number:123\n",
            "1,2,3\n"
          ]
        }
      ]
    }
  ]
}