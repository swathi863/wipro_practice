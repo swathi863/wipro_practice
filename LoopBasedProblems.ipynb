{
  "nbformat": 4,
  "nbformat_minor": 0,
  "metadata": {
    "colab": {
      "provenance": [],
      "authorship_tag": "ABX9TyPlCv3YoWqxa9Vo0da21d6+",
      "include_colab_link": true
    },
    "kernelspec": {
      "name": "python3",
      "display_name": "Python 3"
    },
    "language_info": {
      "name": "python"
    }
  },
  "cells": [
    {
      "cell_type": "markdown",
      "metadata": {
        "id": "view-in-github",
        "colab_type": "text"
      },
      "source": [
        "<a href=\"https://colab.research.google.com/github/swathi863/wipro_practice/blob/main/LoopBasedProblems.ipynb\" target=\"_parent\"><img src=\"https://colab.research.google.com/assets/colab-badge.svg\" alt=\"Open In Colab\"/></a>"
      ]
    },
    {
      "cell_type": "code",
      "source": [
        "\"Design an algorithm to counnt the number of digits in a given number.\"\n",
        "\n",
        "num=int(input(\"enter a number\"))\n",
        "num1=str(num)\n",
        "print(len(num1))\n"
      ],
      "metadata": {
        "colab": {
          "base_uri": "https://localhost:8080/"
        },
        "id": "f9R9mRU2yZPh",
        "outputId": "6160d5a1-b923-45b4-ea36-4e975b52d481"
      },
      "execution_count": 7,
      "outputs": [
        {
          "output_type": "stream",
          "name": "stdout",
          "text": [
            "enter a number12345\n",
            "5\n"
          ]
        }
      ]
    },
    {
      "cell_type": "code",
      "source": [
        "\"Design an algorithm to find the sum of all digits in given number.\"\n",
        "\n",
        "num=int(input(\"enter a number\"))\n",
        "count=0\n",
        "while num>0:\n",
        "    num1=num\n",
        "    if num1>0:\n",
        "        res=num1%10\n",
        "        count+=res\n",
        "    num=num//10\n",
        "print(count)"
      ],
      "metadata": {
        "colab": {
          "base_uri": "https://localhost:8080/"
        },
        "id": "5SE4pI5GydyK",
        "outputId": "a83f5942-5e05-4463-d476-02544c960598"
      },
      "execution_count": 8,
      "outputs": [
        {
          "output_type": "stream",
          "name": "stdout",
          "text": [
            "enter a number12345\n",
            "15\n"
          ]
        }
      ]
    },
    {
      "cell_type": "code",
      "source": [
        "\"Design algorithm which accepts a decimal integer and displays its corresponding binary representation.\"\n",
        "num=int(input(\"enter a number\"))\n",
        "print(bin(num)[2:])"
      ],
      "metadata": {
        "colab": {
          "base_uri": "https://localhost:8080/"
        },
        "id": "xcd8Pansyk-T",
        "outputId": "7681920b-952e-49b7-cd6e-c6685132241d"
      },
      "execution_count": 10,
      "outputs": [
        {
          "output_type": "stream",
          "name": "stdout",
          "text": [
            "enter a number12\n",
            "1100\n"
          ]
        }
      ]
    },
    {
      "cell_type": "code",
      "source": [
        "\"Design algorithm which accepts a binary representation of a number and display its corresponding decimal euivalent\"\n",
        "num=int(input(\"enter a number\"))\n",
        "print(int(str(num),2))"
      ],
      "metadata": {
        "colab": {
          "base_uri": "https://localhost:8080/"
        },
        "id": "xWEK9dGqywbp",
        "outputId": "c35bcfc9-ec87-4ed1-ad2c-6bfdadc419cf"
      },
      "execution_count": 11,
      "outputs": [
        {
          "output_type": "stream",
          "name": "stdout",
          "text": [
            "enter a number1100\n",
            "12\n"
          ]
        }
      ]
    },
    {
      "cell_type": "code",
      "source": [
        "\"Design algorithm which accepts a number from the user and display its smaller exact divisor other than one.\"\n",
        "\n",
        "num=int(input(\"enter the number:\"))\n",
        "for i in range(2,num+1):\n",
        "    if num%i==0:\n",
        "        print(i)\n",
        "        break"
      ],
      "metadata": {
        "colab": {
          "base_uri": "https://localhost:8080/"
        },
        "id": "v3GShipCy4rO",
        "outputId": "b732ef47-01d4-49c5-a529-7e187218f416"
      },
      "execution_count": 13,
      "outputs": [
        {
          "output_type": "stream",
          "name": "stdout",
          "text": [
            "enter the number:9\n",
            "3\n"
          ]
        }
      ]
    }
  ]
}