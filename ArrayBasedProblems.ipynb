{
  "nbformat": 4,
  "nbformat_minor": 0,
  "metadata": {
    "colab": {
      "provenance": [],
      "authorship_tag": "ABX9TyMt7Io8m7iOXXgvUvsS3qYo",
      "include_colab_link": true
    },
    "kernelspec": {
      "name": "python3",
      "display_name": "Python 3"
    },
    "language_info": {
      "name": "python"
    }
  },
  "cells": [
    {
      "cell_type": "markdown",
      "metadata": {
        "id": "view-in-github",
        "colab_type": "text"
      },
      "source": [
        "<a href=\"https://colab.research.google.com/github/swathi863/wipro_practice/blob/main/ArrayBasedProblems.ipynb\" target=\"_parent\"><img src=\"https://colab.research.google.com/assets/colab-badge.svg\" alt=\"Open In Colab\"/></a>"
      ]
    },
    {
      "cell_type": "code",
      "source": [
        "\"Design algorithm to accept 10 integer elements for an array and print the sum of all elements.\"\n",
        "num=list(map(int,input(\"enter 10 elememnts\").split(\" \")))\n",
        "print(sum(num))"
      ],
      "metadata": {
        "colab": {
          "base_uri": "https://localhost:8080/"
        },
        "id": "ncIPU54uzUqZ",
        "outputId": "c3339e91-7697-4ca2-a469-cf53ebc8c83d"
      },
      "execution_count": 14,
      "outputs": [
        {
          "output_type": "stream",
          "name": "stdout",
          "text": [
            "enter 10 elememnts12 23 34 56 78\n",
            "203\n"
          ]
        }
      ]
    },
    {
      "cell_type": "code",
      "source": [
        "\"\"\"Design algorithm to accept 20 integer elements for an array and print the maximum 3 and minimum\n",
        "   3 elements from the array\n",
        "   note:sorting of array elemensts are not expected as part of this activity.\n",
        "\"\"\"\n",
        "\n",
        "nums=list(map(int,input(\"enter the 20 numbers:\").split(\" \")))\n",
        "for i in range(len(nums)):\n",
        "    for j in range(i+1,len(nums)):\n",
        "        if nums[i]>nums[j]:\n",
        "            nums[i],nums[j]=nums[j],nums[i]\n",
        "res=set(nums)\n",
        "res=list(res)\n",
        "print(\"1st minimum element is:\",res[0])\n",
        "print(\"2st minimum element is:\",res[1])\n",
        "print(\"3st minimum element is:\",res[2])\n",
        "print(\"1st maximum element is:\",res[-1])\n",
        "print(\"1st maximum element is:\",res[-2])\n",
        "print(\"1st maximum element is:\",res[-3])\n",
        "\n"
      ],
      "metadata": {
        "colab": {
          "base_uri": "https://localhost:8080/"
        },
        "id": "EqOmaIrAze_A",
        "outputId": "5a5940bd-598f-4660-e3c7-ae9739828bf1"
      },
      "execution_count": 16,
      "outputs": [
        {
          "output_type": "stream",
          "name": "stdout",
          "text": [
            "enter the 20 numbers:12 34 5 69 12 34 56 67 12 34 56 67 89 90100 12 23\n",
            "1st minimum element is: 34\n",
            "2st minimum element is: 67\n",
            "3st minimum element is: 5\n",
            "1st maximum element is: 89\n",
            "1st maximum element is: 56\n",
            "1st maximum element is: 23\n"
          ]
        }
      ]
    },
    {
      "cell_type": "code",
      "source": [
        "\"\"\"Desihn algorithm to accept 10 integers for an array and then rearrange the elements in\n",
        "reverse order .the reversed array must be displayed as output.\"\"\"\n",
        "arr=list(map(int,input(\"enter 10 elements:\").split(\" \")))\n",
        "print(arr[::-1])"
      ],
      "metadata": {
        "colab": {
          "base_uri": "https://localhost:8080/"
        },
        "id": "elh076TUzySJ",
        "outputId": "507e2dc9-32d3-4226-a176-1ce3a0180b93"
      },
      "execution_count": 17,
      "outputs": [
        {
          "output_type": "stream",
          "name": "stdout",
          "text": [
            "enter 10 elements:1 2 3 4 5 6 7 8 9 10\n",
            "[10, 9, 8, 7, 6, 5, 4, 3, 2, 1]\n"
          ]
        }
      ]
    },
    {
      "cell_type": "code",
      "source": [
        "\"\"\"Design algorithm which accepts a set of N(consider N to 30)student's examination marks\n",
        "(in the range of 0 to 100).Then make a count of the number of students that obtain each possible marks(i.e.. count\n",
        "of how many students scored 0,count of how many students scored 1,..\n",
        "till count of how many students scored 100)\"\"\"\n",
        "\n",
        "from collections import Counter\n",
        "marks=list(map(int,input(\"enter the marks:\").split(\" \")))\n",
        "res=Counter(marks)\n",
        "if len(marks)!=30:\n",
        "    print(\"30 students\")\n",
        "elif any(i<0 or i>100 for i in marks):\n",
        "    print(\"marks between 0 to 100 and enter students 30\")\n",
        "else:\n",
        "    for i in range(0,101):\n",
        "        print(f\"{i} got {res.get(i,0)}\")"
      ],
      "metadata": {
        "colab": {
          "base_uri": "https://localhost:8080/"
        },
        "id": "yyW2Eo-ez5FR",
        "outputId": "cc768931-d40d-4344-8326-8673a4f180b3"
      },
      "execution_count": 18,
      "outputs": [
        {
          "output_type": "stream",
          "name": "stdout",
          "text": [
            "enter the marks:1 2 3 4 5 6 7 8 9 0 1 2 3 4 5 6 7 8 9 0 1 2 3 4 5 6 7 8 9 0\n",
            "0 got 3\n",
            "1 got 3\n",
            "2 got 3\n",
            "3 got 3\n",
            "4 got 3\n",
            "5 got 3\n",
            "6 got 3\n",
            "7 got 3\n",
            "8 got 3\n",
            "9 got 3\n",
            "10 got 0\n",
            "11 got 0\n",
            "12 got 0\n",
            "13 got 0\n",
            "14 got 0\n",
            "15 got 0\n",
            "16 got 0\n",
            "17 got 0\n",
            "18 got 0\n",
            "19 got 0\n",
            "20 got 0\n",
            "21 got 0\n",
            "22 got 0\n",
            "23 got 0\n",
            "24 got 0\n",
            "25 got 0\n",
            "26 got 0\n",
            "27 got 0\n",
            "28 got 0\n",
            "29 got 0\n",
            "30 got 0\n",
            "31 got 0\n",
            "32 got 0\n",
            "33 got 0\n",
            "34 got 0\n",
            "35 got 0\n",
            "36 got 0\n",
            "37 got 0\n",
            "38 got 0\n",
            "39 got 0\n",
            "40 got 0\n",
            "41 got 0\n",
            "42 got 0\n",
            "43 got 0\n",
            "44 got 0\n",
            "45 got 0\n",
            "46 got 0\n",
            "47 got 0\n",
            "48 got 0\n",
            "49 got 0\n",
            "50 got 0\n",
            "51 got 0\n",
            "52 got 0\n",
            "53 got 0\n",
            "54 got 0\n",
            "55 got 0\n",
            "56 got 0\n",
            "57 got 0\n",
            "58 got 0\n",
            "59 got 0\n",
            "60 got 0\n",
            "61 got 0\n",
            "62 got 0\n",
            "63 got 0\n",
            "64 got 0\n",
            "65 got 0\n",
            "66 got 0\n",
            "67 got 0\n",
            "68 got 0\n",
            "69 got 0\n",
            "70 got 0\n",
            "71 got 0\n",
            "72 got 0\n",
            "73 got 0\n",
            "74 got 0\n",
            "75 got 0\n",
            "76 got 0\n",
            "77 got 0\n",
            "78 got 0\n",
            "79 got 0\n",
            "80 got 0\n",
            "81 got 0\n",
            "82 got 0\n",
            "83 got 0\n",
            "84 got 0\n",
            "85 got 0\n",
            "86 got 0\n",
            "87 got 0\n",
            "88 got 0\n",
            "89 got 0\n",
            "90 got 0\n",
            "91 got 0\n",
            "92 got 0\n",
            "93 got 0\n",
            "94 got 0\n",
            "95 got 0\n",
            "96 got 0\n",
            "97 got 0\n",
            "98 got 0\n",
            "99 got 0\n",
            "100 got 0\n"
          ]
        }
      ]
    },
    {
      "cell_type": "code",
      "source": [
        "\"\"\" modify the algorithm written above in order to get count of students in a\n",
        "    specific range of marks as defined below\n",
        "    0% to 10%\n",
        "    11% to 20%\n",
        "    ....\n",
        "    ...\n",
        "    91% to 100%\n",
        "\"\"\"\n",
        "marks=list(map(int,input(\"enter the marks:\").split(\" \")))\n",
        "if len(marks)!=30:\n",
        "    print(\"30 students\")\n",
        "elif any(i<0 or i>100 for i in marks):\n",
        "    print(\"marks between 0 to 100 and enter students 30\")\n",
        "else:\n",
        "    ranges={\n",
        "        '0-10':0,\n",
        "        '11-20':0,\n",
        "        '21-30':0,\n",
        "        '31-40':0,\n",
        "        '41-50':0,\n",
        "        '51-60':0,\n",
        "        '61-70':0,\n",
        "        '71-80':0,\n",
        "        '81-90':0,\n",
        "        '91-100':0\n",
        "        }\n",
        "    for i in marks:\n",
        "        if 0<=i<=10:\n",
        "            ranges['0-10']+=1\n",
        "        elif 11<=i<=20:\n",
        "            ranges['11-20']+=1\n",
        "        elif 21<=i<=30:\n",
        "            ranges['21-30']+=1\n",
        "        elif 31<=i<=40:\n",
        "            ranges['31-40']+=1\n",
        "        elif 41<=i<=50:\n",
        "            ranges['41-50']+=1\n",
        "        elif 51<=i<=60:\n",
        "            ranges['51-60']+=1\n",
        "        elif 61<=i<=70:\n",
        "            ranges['61-70']+=1\n",
        "        elif 71<=i<=80:\n",
        "            ranges['71-80']+=1\n",
        "        elif 81<=i<=90:\n",
        "            ranges['81-90']+=1\n",
        "        else:\n",
        "            ranges['91-100']+=1\n",
        "    for i,j in ranges.items():\n",
        "        print(f\"{i} got {j}\")\n",
        "\n",
        "\n",
        ""
      ],
      "metadata": {
        "colab": {
          "base_uri": "https://localhost:8080/"
        },
        "id": "9F9i1SxU0HDO",
        "outputId": "db4a015b-9c88-4f4f-9737-ce895c40d52a"
      },
      "execution_count": 19,
      "outputs": [
        {
          "output_type": "stream",
          "name": "stdout",
          "text": [
            "enter the marks:1 2 3 4 5 6 7 8 9 0 1 2 3 4 5 6 7 8 9 0 1 2 3 4 5 6 7 8 9 0\n",
            "0-10 got 30\n",
            "11-20 got 0\n",
            "21-30 got 0\n",
            "31-40 got 0\n",
            "41-50 got 0\n",
            "51-60 got 0\n",
            "61-70 got 0\n",
            "71-80 got 0\n",
            "81-90 got 0\n",
            "91-100 got 0\n"
          ]
        }
      ]
    }
  ]
}