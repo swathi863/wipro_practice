{
  "nbformat": 4,
  "nbformat_minor": 0,
  "metadata": {
    "colab": {
      "provenance": [],
      "authorship_tag": "ABX9TyOeJxKCIG5yV5UxHa9QLG9a",
      "include_colab_link": true
    },
    "kernelspec": {
      "name": "python3",
      "display_name": "Python 3"
    },
    "language_info": {
      "name": "python"
    }
  },
  "cells": [
    {
      "cell_type": "markdown",
      "metadata": {
        "id": "view-in-github",
        "colab_type": "text"
      },
      "source": [
        "<a href=\"https://colab.research.google.com/github/swathi863/wipro_practice/blob/main/Patterns.ipynb\" target=\"_parent\"><img src=\"https://colab.research.google.com/assets/colab-badge.svg\" alt=\"Open In Colab\"/></a>"
      ]
    },
    {
      "cell_type": "code",
      "execution_count": 2,
      "metadata": {
        "colab": {
          "base_uri": "https://localhost:8080/"
        },
        "id": "OLHtu-3jB_i_",
        "outputId": "67dcdb84-f951-4801-ff12-82fbb2c9e53a"
      },
      "outputs": [
        {
          "output_type": "stream",
          "name": "stdout",
          "text": [
            "                     \n",
            "                  *  \n",
            "                * *  \n",
            "              * * *  \n",
            "            * * * *  \n",
            "          * * * * *  \n",
            "        * * * * * *  \n",
            "      * * * * * * *  \n",
            "    * * * * * * * *  \n",
            "  * * * * * * * * *  \n",
            "* * * * * * * * * *  \n"
          ]
        }
      ],
      "source": [
        "rows=10\n",
        "for i in range(rows+1):\n",
        "    for j in range(rows-i):\n",
        "        print(\" \",end=\" \")\n",
        "    for  j in range(i):\n",
        "        print(\"*\",end=\" \")\n",
        "    print(\" \")\n"
      ]
    },
    {
      "cell_type": "code",
      "source": [
        "rows=10\n",
        "for i in range(rows+1):\n",
        "    for j in range(1,i+1):\n",
        "        print(j,end=\" \")\n",
        "    print()"
      ],
      "metadata": {
        "colab": {
          "base_uri": "https://localhost:8080/"
        },
        "id": "jf6RdxrqCP1U",
        "outputId": "bb3c14e1-4a19-4330-987d-af7f5fa98617"
      },
      "execution_count": 3,
      "outputs": [
        {
          "output_type": "stream",
          "name": "stdout",
          "text": [
            "\n",
            "1 \n",
            "1 2 \n",
            "1 2 3 \n",
            "1 2 3 4 \n",
            "1 2 3 4 5 \n",
            "1 2 3 4 5 6 \n",
            "1 2 3 4 5 6 7 \n",
            "1 2 3 4 5 6 7 8 \n",
            "1 2 3 4 5 6 7 8 9 \n",
            "1 2 3 4 5 6 7 8 9 10 \n"
          ]
        }
      ]
    },
    {
      "cell_type": "code",
      "source": [
        "rows=10\n",
        "for i in range(1,rows):\n",
        "    for j in range(rows-i):\n",
        "        print(\" \",end=\" \")\n",
        "    for j in range(1,i+1):\n",
        "        print(j,end=\" \")\n",
        "    for k in range(i-1,0,-1):\n",
        "        print(k,end=\" \")\n",
        "    print()"
      ],
      "metadata": {
        "colab": {
          "base_uri": "https://localhost:8080/"
        },
        "id": "LPcKu-_yCfu8",
        "outputId": "20a54c44-4d4d-496a-d973-6d80714bc2ad"
      },
      "execution_count": 4,
      "outputs": [
        {
          "output_type": "stream",
          "name": "stdout",
          "text": [
            "                  1 \n",
            "                1 2 1 \n",
            "              1 2 3 2 1 \n",
            "            1 2 3 4 3 2 1 \n",
            "          1 2 3 4 5 4 3 2 1 \n",
            "        1 2 3 4 5 6 5 4 3 2 1 \n",
            "      1 2 3 4 5 6 7 6 5 4 3 2 1 \n",
            "    1 2 3 4 5 6 7 8 7 6 5 4 3 2 1 \n",
            "  1 2 3 4 5 6 7 8 9 8 7 6 5 4 3 2 1 \n"
          ]
        }
      ]
    },
    {
      "cell_type": "code",
      "source": [
        "rows=10\n",
        "for i in range(1,rows):\n",
        "    for j in range(rows-i):\n",
        "        print(\" \",end=\" \")\n",
        "    for j in range(1,i+1):\n",
        "        print(j,end=\" \")\n",
        "    for k in range(i-1,0,-1):\n",
        "        print(k,end=\" \")\n",
        "    print()\n",
        "for i in range(rows,0,-1):\n",
        "    for j in range(rows-i):\n",
        "        print(\" \",end=\" \")\n",
        "    for j in range(1,i+1):\n",
        "        print(j,end=\" \")\n",
        "    for k in range(i-1,0,-1):\n",
        "        print(k,end=\" \")\n",
        "    print()"
      ],
      "metadata": {
        "colab": {
          "base_uri": "https://localhost:8080/"
        },
        "id": "JWCfHRweCnZ0",
        "outputId": "6d71affa-7ae6-4aac-90fb-a2f013391a82"
      },
      "execution_count": 5,
      "outputs": [
        {
          "output_type": "stream",
          "name": "stdout",
          "text": [
            "                  1 \n",
            "                1 2 1 \n",
            "              1 2 3 2 1 \n",
            "            1 2 3 4 3 2 1 \n",
            "          1 2 3 4 5 4 3 2 1 \n",
            "        1 2 3 4 5 6 5 4 3 2 1 \n",
            "      1 2 3 4 5 6 7 6 5 4 3 2 1 \n",
            "    1 2 3 4 5 6 7 8 7 6 5 4 3 2 1 \n",
            "  1 2 3 4 5 6 7 8 9 8 7 6 5 4 3 2 1 \n",
            "1 2 3 4 5 6 7 8 9 10 9 8 7 6 5 4 3 2 1 \n",
            "  1 2 3 4 5 6 7 8 9 8 7 6 5 4 3 2 1 \n",
            "    1 2 3 4 5 6 7 8 7 6 5 4 3 2 1 \n",
            "      1 2 3 4 5 6 7 6 5 4 3 2 1 \n",
            "        1 2 3 4 5 6 5 4 3 2 1 \n",
            "          1 2 3 4 5 4 3 2 1 \n",
            "            1 2 3 4 3 2 1 \n",
            "              1 2 3 2 1 \n",
            "                1 2 1 \n",
            "                  1 \n"
          ]
        }
      ]
    },
    {
      "cell_type": "code",
      "source": [
        "rows=10\n",
        "for i in range(1,rows+1):\n",
        "    for j in range(rows-i):\n",
        "        print(\" \",end=\" \")\n",
        "    for j in range(1,i+1):\n",
        "        print(j,end=\" \")\n",
        "    for k in range(i-1,0,-1):\n",
        "        print(chr(64+k),end=\" \")\n",
        "    print()"
      ],
      "metadata": {
        "colab": {
          "base_uri": "https://localhost:8080/"
        },
        "id": "yeb8yTlqCq9c",
        "outputId": "cac47ab4-4272-4cb8-a5bc-1f94029cace4"
      },
      "execution_count": 6,
      "outputs": [
        {
          "output_type": "stream",
          "name": "stdout",
          "text": [
            "                  1 \n",
            "                1 2 A \n",
            "              1 2 3 B A \n",
            "            1 2 3 4 C B A \n",
            "          1 2 3 4 5 D C B A \n",
            "        1 2 3 4 5 6 E D C B A \n",
            "      1 2 3 4 5 6 7 F E D C B A \n",
            "    1 2 3 4 5 6 7 8 G F E D C B A \n",
            "  1 2 3 4 5 6 7 8 9 H G F E D C B A \n",
            "1 2 3 4 5 6 7 8 9 10 I H G F E D C B A \n"
          ]
        }
      ]
    }
  ]
}