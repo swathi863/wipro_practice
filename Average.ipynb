{
  "nbformat": 4,
  "nbformat_minor": 0,
  "metadata": {
    "colab": {
      "provenance": [],
      "authorship_tag": "ABX9TyNZfX92FcbwwLRnEuBhnlfc",
      "include_colab_link": true
    },
    "kernelspec": {
      "name": "python3",
      "display_name": "Python 3"
    },
    "language_info": {
      "name": "python"
    }
  },
  "cells": [
    {
      "cell_type": "markdown",
      "metadata": {
        "id": "view-in-github",
        "colab_type": "text"
      },
      "source": [
        "<a href=\"https://colab.research.google.com/github/swathi863/wipro_practice/blob/main/Average.ipynb\" target=\"_parent\"><img src=\"https://colab.research.google.com/assets/colab-badge.svg\" alt=\"Open In Colab\"/></a>"
      ]
    },
    {
      "cell_type": "code",
      "source": [
        "\"\"\"Read 10 integers from the user to find their average and also find out how many integers\n",
        "are less than the average.\"\"\"\n",
        "\n",
        "nums=list(map(int,input(\"enter numbers:\").split(\" \")))\n",
        "if len(nums)!=10:\n",
        "    print(\"please enter 10 integers\")\n",
        "else:\n",
        "    avg=(sum(nums)//len(nums))\n",
        "    c=0\n",
        "    for i in nums:\n",
        "        if i<avg:\n",
        "            c+=1\n",
        "    print(\"average numbers is:\",avg)\n",
        "    print(\"numbers less than average are:\",c)"
      ],
      "metadata": {
        "colab": {
          "base_uri": "https://localhost:8080/"
        },
        "id": "cMGvagktXOPT",
        "outputId": "352a8ba8-870b-4aa7-8207-b98333a314e9"
      },
      "execution_count": 3,
      "outputs": [
        {
          "output_type": "stream",
          "name": "stdout",
          "text": [
            "enter numbers:1 2 3 4 5 6 7 8 9 10\n",
            "average numbers is: 5\n",
            "numbers less than average are: 4\n"
          ]
        }
      ]
    },
    {
      "cell_type": "code",
      "source": [
        "\"\"\"If we are required to read and find the average of 10 integer values,it can be very easily done\n",
        "with the use of loops.in each iteration of the loop we add the new important point to note in this\n",
        "algorithm is that we do not need to store the value of all the 10 integers entered by the user at the\n",
        "same time,but must store only the most recently read value which is added to the sum.\"\"\"\n",
        "6\n",
        "count=0\n",
        "for _ in range(10):\n",
        "    num=int(input(\"enter a number:\"))\n",
        "    count+=num\n",
        "print(\"Average is:\",count/10)\n",
        "print(\"sum of integers is:\",count)\n"
      ],
      "metadata": {
        "colab": {
          "base_uri": "https://localhost:8080/"
        },
        "id": "4PIlIjNpXZNR",
        "outputId": "724ad9bc-c843-4848-9249-3ac6b8c43805"
      },
      "execution_count": 6,
      "outputs": [
        {
          "output_type": "stream",
          "name": "stdout",
          "text": [
            "enter a number:2\n",
            "enter a number:34\n",
            "enter a number:556\n",
            "enter a number:78\n",
            "enter a number:23\n",
            "enter a number:45\n",
            "enter a number:67\n",
            "enter a number:8\n",
            "enter a number:1\n",
            "enter a number:98\n",
            "Average is: 91.2\n",
            "sum of integers is: 912\n"
          ]
        }
      ]
    },
    {
      "cell_type": "code",
      "source": [
        "\"\"\"Read 10 integers from the user to find their average and also find out how many integers are less than\n",
        "the average.Now to design the algorithm we must frist find the average and then compare each number with the average to check if it is\n",
        "less than the average to check if it less than the average or not.So we are not supposed to forget or losse the values entered by the\n",
        "user till we compare them with the average.\n",
        "now,without using arrays we can solve this problem by having 10 integers variables to hold the values entered by the user.But then there\n",
        "will be a difficulty in writing the iterative loop as the variable names will have to change for every iteration of the loop.Arrays helps\n",
        "us slove this problem subsequent discusion.\"\"\"\n",
        "nums=[]\n",
        "count=0\n",
        "for _ in range(10):\n",
        "    num=int(input(\"enter a number:\"))\n",
        "    nums.append(num)\n",
        "    count+=num\n",
        "print(\"Average is:\",count/10)\n",
        "print(\"sum of integers is:\",count)\n",
        "avg=count/10\n",
        "c=0\n",
        "for i in nums:\n",
        "    if i<avg:\n",
        "        c+=1\n",
        "print(\"the numbers less than average are:\",c)\n",
        "\n"
      ],
      "metadata": {
        "colab": {
          "base_uri": "https://localhost:8080/"
        },
        "id": "NLJn9_7sXlYS",
        "outputId": "3b738aba-e2f0-419b-d99b-82ed723eb429"
      },
      "execution_count": 7,
      "outputs": [
        {
          "output_type": "stream",
          "name": "stdout",
          "text": [
            "enter a number:1\n",
            "enter a number:45\n",
            "enter a number:23\n",
            "enter a number:77\n",
            "enter a number:45\n",
            "enter a number:34\n",
            "enter a number:89\n",
            "enter a number:33\n",
            "enter a number:222\n",
            "enter a number:7\n",
            "Average is: 57.6\n",
            "sum of integers is: 576\n",
            "the numbers less than average are: 7\n"
          ]
        }
      ]
    }
  ]
}