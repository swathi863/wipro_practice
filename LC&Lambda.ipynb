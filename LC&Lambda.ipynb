{
  "nbformat": 4,
  "nbformat_minor": 0,
  "metadata": {
    "colab": {
      "provenance": [],
      "authorship_tag": "ABX9TyPJBEgc80LUTbVEyjit2GCB",
      "include_colab_link": true
    },
    "kernelspec": {
      "name": "python3",
      "display_name": "Python 3"
    },
    "language_info": {
      "name": "python"
    }
  },
  "cells": [
    {
      "cell_type": "markdown",
      "metadata": {
        "id": "view-in-github",
        "colab_type": "text"
      },
      "source": [
        "<a href=\"https://colab.research.google.com/github/swathi863/wipro_practice/blob/main/LC%26Lambda.ipynb\" target=\"_parent\"><img src=\"https://colab.research.google.com/assets/colab-badge.svg\" alt=\"Open In Colab\"/></a>"
      ]
    },
    {
      "cell_type": "code",
      "execution_count": 10,
      "metadata": {
        "colab": {
          "base_uri": "https://localhost:8080/"
        },
        "id": "oXhIH2g5gV7M",
        "outputId": "c7ca80ff-0f26-47b9-8d92-439468b81dd7"
      },
      "outputs": [
        {
          "output_type": "stream",
          "name": "stdout",
          "text": [
            "[1, 8, 27, 64, 125, 216, 343, 512, 729]\n"
          ]
        }
      ],
      "source": [
        "#cube every number in the given list list_1=[1,2,3,4,5,6,7,8,9]\n",
        "list_1=[1,2,3,4,5,6,7,8,9]\n",
        "result=list(map(lambda y:y**3,list_1))\n",
        "print(result)"
      ]
    },
    {
      "cell_type": "code",
      "source": [
        "\"Write a LC program to create an output dictionary which contains only the odd numbers that are present in the input list=[1,2,3,4,5,6,7] as keys and their cubes as values\"\n",
        "list1=[1,2,3,4,5,6,7]\n",
        "odd_nums=[(i,i**3) for i in list1 if i%2!=0]\n",
        "print(dict(odd_nums))"
      ],
      "metadata": {
        "colab": {
          "base_uri": "https://localhost:8080/"
        },
        "id": "YxMK8_rKiCkK",
        "outputId": "b351f7c0-d91b-419f-a4a8-caf8fe2704cc"
      },
      "execution_count": 24,
      "outputs": [
        {
          "output_type": "stream",
          "name": "stdout",
          "text": [
            "{1: 1, 3: 27, 5: 125, 7: 343}\n"
          ]
        }
      ]
    },
    {
      "cell_type": "code",
      "source": [
        "\"Make a dictionary of the 26 english alphabets mapping each with the corresponding integer.\"\n",
        "alpha=[(chr(64+i),i) for i in range(1,27)]\n",
        "print(dict(alpha))\n",
        "alpha=[(chr(96+i),i) for i in range(1,27)]\n",
        "print(dict(alpha))"
      ],
      "metadata": {
        "colab": {
          "base_uri": "https://localhost:8080/"
        },
        "id": "8d0rvr_vkU2E",
        "outputId": "33148e76-d354-4407-a2f8-e40314b280c9"
      },
      "execution_count": 34,
      "outputs": [
        {
          "output_type": "stream",
          "name": "stdout",
          "text": [
            "{'A': 1, 'B': 2, 'C': 3, 'D': 4, 'E': 5, 'F': 6, 'G': 7, 'H': 8, 'I': 9, 'J': 10, 'K': 11, 'L': 12, 'M': 13, 'N': 14, 'O': 15, 'P': 16, 'Q': 17, 'R': 18, 'S': 19, 'T': 20, 'U': 21, 'V': 22, 'W': 23, 'X': 24, 'Y': 25, 'Z': 26}\n",
            "{'a': 1, 'b': 2, 'c': 3, 'd': 4, 'e': 5, 'f': 6, 'g': 7, 'h': 8, 'i': 9, 'j': 10, 'k': 11, 'l': 12, 'm': 13, 'n': 14, 'o': 15, 'p': 16, 'q': 17, 'r': 18, 's': 19, 't': 20, 'u': 21, 'v': 22, 'w': 23, 'x': 24, 'y': 25, 'z': 26}\n"
          ]
        }
      ]
    },
    {
      "cell_type": "code",
      "source": [
        "#List Comprehensions\n",
        "#is LC faster than for loop?\n",
        "#---->Yes because LC has single Expression,Optimized Bytecode,Overhead(doesnot use append() repeatedly)\n",
        "\n",
        "#is List iterator or iterables?\n",
        "#---->List is iterable beacause it cannot iterate itself\n",
        "#iterable-->list,tuple,range,dict...\n",
        "#iterator-->iter(list)\n",
        "\n",
        "#is Lambbda keyword must in lambda functions?\n",
        "#--->yes,it is unnamed function."
      ],
      "metadata": {
        "id": "r-bNEsX4nTr9"
      },
      "execution_count": null,
      "outputs": []
    }
  ]
}