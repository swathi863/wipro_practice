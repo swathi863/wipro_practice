{
  "nbformat": 4,
  "nbformat_minor": 0,
  "metadata": {
    "colab": {
      "provenance": [],
      "authorship_tag": "ABX9TyP8fGHbcpOGARIqFP0NyfjP",
      "include_colab_link": true
    },
    "kernelspec": {
      "name": "python3",
      "display_name": "Python 3"
    },
    "language_info": {
      "name": "python"
    }
  },
  "cells": [
    {
      "cell_type": "markdown",
      "metadata": {
        "id": "view-in-github",
        "colab_type": "text"
      },
      "source": [
        "<a href=\"https://colab.research.google.com/github/swathi863/wipro_practice/blob/main/Matrices.ipynb\" target=\"_parent\"><img src=\"https://colab.research.google.com/assets/colab-badge.svg\" alt=\"Open In Colab\"/></a>"
      ]
    },
    {
      "cell_type": "code",
      "execution_count": 2,
      "metadata": {
        "colab": {
          "base_uri": "https://localhost:8080/"
        },
        "id": "tkwwcCu8-qgr",
        "outputId": "5f4c87ff-3642-4c09-aa38-7a5bac24d97e"
      },
      "outputs": [
        {
          "output_type": "stream",
          "name": "stdout",
          "text": [
            "enter no.of rows:3\n",
            "enter no.of cols:3\n",
            "enter a value:1\n",
            "enter a value:2\n",
            "enter a value:3\n",
            "enter a value:4\n",
            "enter a value:5\n",
            "enter a value:6\n",
            "enter a value:7\n",
            "enter a value:8\n",
            "enter a value:9\n",
            "[[1, 2, 3], [4, 5, 6], [7, 8, 9]]\n"
          ]
        }
      ],
      "source": [
        "#Martix Problems\n",
        "row=int(input(\"enter no.of rows:\"))\n",
        "col=int(input(\"enter no.of cols:\"))\n",
        "matrix=[]\n",
        "for i in range(row):\n",
        "  row1=[]\n",
        "  for j in range(col):\n",
        "    val=int(input(\"enter a value:\"))\n",
        "    row1.append(val)\n",
        "  matrix.append(row1)\n",
        "print(matrix)"
      ]
    },
    {
      "cell_type": "code",
      "source": [
        "#Uisng Loops\n",
        "mat=[[1, 2, 3], [4, 5, 6], [7, 8, 9]]\n",
        "for i in range(len(mat)):\n",
        "  for j in range(len(mat[i])):\n",
        "    print(mat[i][j],end=\" \")\n",
        "  print()"
      ],
      "metadata": {
        "colab": {
          "base_uri": "https://localhost:8080/"
        },
        "id": "5X_gazuK_8ny",
        "outputId": "716be52f-06a5-4836-f12a-371ea38ccdb2"
      },
      "execution_count": 4,
      "outputs": [
        {
          "output_type": "stream",
          "name": "stdout",
          "text": [
            "1 2 3 \n",
            "4 5 6 \n",
            "7 8 9 \n"
          ]
        }
      ]
    },
    {
      "cell_type": "code",
      "source": [
        "#Printing a Matrix usinG LC\n",
        "row=int(input(\"enter no.of rows:\"))\n",
        "col=int(input(\"enter no.of cols:\"))\n",
        "mat=[[i for j in range(col) ]for i in range(row)]\n",
        "print(mat)"
      ],
      "metadata": {
        "colab": {
          "base_uri": "https://localhost:8080/"
        },
        "id": "PGKKk5X8AdUN",
        "outputId": "6a874dc8-aa44-4df8-e737-760a009c1e10"
      },
      "execution_count": 6,
      "outputs": [
        {
          "output_type": "stream",
          "name": "stdout",
          "text": [
            "enter no.of rows:3\n",
            "enter no.of cols:3\n",
            "[[0, 0, 0], [1, 1, 1], [2, 2, 2]]\n"
          ]
        }
      ]
    },
    {
      "cell_type": "code",
      "source": [
        "#Addition of a matrix\n",
        "mat1=[[1, 2, 3], [4, 5, 6], [7, 8, 9]]\n",
        "mat2=[[2, 3, 4], [5, 6, 7], [7, 8, 9]]\n",
        "result=[]\n",
        "for i in range(len(mat1)):\n",
        "  res=[]\n",
        "  for j in range(len(mat[i])):\n",
        "    res.append(mat1[i][j]+mat2[i][j])\n",
        "  result.append(res)\n",
        "for i in range(len(mat1)):\n",
        "  for j in range(len(mat1[i])):\n",
        "    print(result[i][j],end=\" \")\n",
        "  print()"
      ],
      "metadata": {
        "colab": {
          "base_uri": "https://localhost:8080/"
        },
        "id": "BjCbYsieBTVI",
        "outputId": "e159f981-73b7-4b58-ebf2-017e72234b09"
      },
      "execution_count": 8,
      "outputs": [
        {
          "output_type": "stream",
          "name": "stdout",
          "text": [
            "3 5 7 \n",
            "9 11 13 \n",
            "14 16 18 \n"
          ]
        }
      ]
    },
    {
      "cell_type": "code",
      "source": [
        "#Using LC\n",
        "mat1=[[1, 2, 3], [4, 5, 6], [7, 8, 9]]\n",
        "mat2=[[2, 3, 4], [5, 6, 7], [7, 8, 9]]\n",
        "result=[[ mat1[i][j]-mat2[i][j] for j in range(len(mat[i]))]for i in range(len(mat1))]\n",
        "print(result)"
      ],
      "metadata": {
        "colab": {
          "base_uri": "https://localhost:8080/"
        },
        "id": "vKnoSNgwCSk2",
        "outputId": "1bc13392-01e1-4786-9fdf-fe633d9e965d"
      },
      "execution_count": 10,
      "outputs": [
        {
          "output_type": "stream",
          "name": "stdout",
          "text": [
            "[[-1, -1, -1], [-1, -1, -1], [0, 0, 0]]\n"
          ]
        }
      ]
    },
    {
      "cell_type": "code",
      "source": [
        "#Transpose Matrix\n",
        "matrix=[[1,2,3],[4,5,6],[7,8,9]]\n",
        "transpose=[[0]*3 for _ in range(len(matrix))]\n",
        "for i in range(len(matrix)):\n",
        "  for j in range(len(matrix[i])):\n",
        "    transpose[j][i]=matrix[i][j]\n",
        "print(transpose)"
      ],
      "metadata": {
        "colab": {
          "base_uri": "https://localhost:8080/"
        },
        "id": "BhpVCBCuCu1C",
        "outputId": "6277ec9b-847d-4d16-9994-a6a1963ec126"
      },
      "execution_count": 12,
      "outputs": [
        {
          "output_type": "stream",
          "name": "stdout",
          "text": [
            "[[1, 4, 7], [2, 5, 8], [3, 6, 9]]\n"
          ]
        }
      ]
    },
    {
      "cell_type": "code",
      "source": [
        "#Using LC\n",
        "matrix=[[1,2,3],[4,5,6],[7,8,9]]\n",
        "transpose=[[matrix[j][i] for j in range(len(matrix[i]))]for i in range(len(matrix))]\n",
        "print(transpose)"
      ],
      "metadata": {
        "colab": {
          "base_uri": "https://localhost:8080/"
        },
        "id": "SDXcgCR3EPg0",
        "outputId": "4a9e0e60-6882-48a2-e4e8-b734846bc7dd"
      },
      "execution_count": 13,
      "outputs": [
        {
          "output_type": "stream",
          "name": "stdout",
          "text": [
            "[[1, 4, 7], [2, 5, 8], [3, 6, 9]]\n"
          ]
        }
      ]
    }
  ]
}