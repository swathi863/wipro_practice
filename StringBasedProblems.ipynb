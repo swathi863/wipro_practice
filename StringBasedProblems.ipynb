{
  "nbformat": 4,
  "nbformat_minor": 0,
  "metadata": {
    "colab": {
      "provenance": [],
      "authorship_tag": "ABX9TyPTClnAWkfg/QZBJFznimV9",
      "include_colab_link": true
    },
    "kernelspec": {
      "name": "python3",
      "display_name": "Python 3"
    },
    "language_info": {
      "name": "python"
    }
  },
  "cells": [
    {
      "cell_type": "markdown",
      "metadata": {
        "id": "view-in-github",
        "colab_type": "text"
      },
      "source": [
        "<a href=\"https://colab.research.google.com/github/swathi863/wipro_practice/blob/main/StringBasedProblems.ipynb\" target=\"_parent\"><img src=\"https://colab.research.google.com/assets/colab-badge.svg\" alt=\"Open In Colab\"/></a>"
      ]
    },
    {
      "cell_type": "code",
      "source": [
        "\"\"\"Design algorithm to accept a string from the user.Reverse the string and display it.\"\"\"\n",
        "string=str(input(\"enter a string:\"))\n",
        "print(\"Reversed String:\",string[::-1])"
      ],
      "metadata": {
        "colab": {
          "base_uri": "https://localhost:8080/"
        },
        "id": "j3Z8PoA1YVWc",
        "outputId": "8a15311e-908a-4f0c-b85b-e009f5f71074"
      },
      "execution_count": 8,
      "outputs": [
        {
          "output_type": "stream",
          "name": "stdout",
          "text": [
            "enter a string:pavan kalyan\n",
            "Reversed String: naylak navap\n"
          ]
        }
      ]
    },
    {
      "cell_type": "code",
      "source": [
        "\"\"\"Design algorithm to accept a string from the user.Replace all vowels with 'z'.\n",
        "   if there is no vowels in the string just print the original word with the msg \"No vowels present\"\n",
        "\"\"\"\n",
        "\n",
        "String=str(input(\"enter the string:\"))\n",
        "vowels='aeiouAEIOU'\n",
        "c=0\n",
        "swap='z'\n",
        "for i in String:\n",
        "    if i in vowels:\n",
        "        s=String.replace(i,swap)\n",
        "        c=1\n",
        "if c==0:\n",
        "    print(f\"NO vowels present in {String}\")\n",
        "else:\n",
        "    print(s)"
      ],
      "metadata": {
        "colab": {
          "base_uri": "https://localhost:8080/"
        },
        "id": "oCqj0c0HYiEa",
        "outputId": "0de6de4a-a373-4559-a35e-1dd08a68a995"
      },
      "execution_count": 9,
      "outputs": [
        {
          "output_type": "stream",
          "name": "stdout",
          "text": [
            "enter the string:pavan kalyan\n",
            "pzvzn kzlyzn\n"
          ]
        }
      ]
    },
    {
      "cell_type": "code",
      "source": [
        "\"\"\"Design algorithm to accept 2 strings(string1 and string2 )from the user.concatenate\n",
        "both the strings into thrid string3 and print result.\"\"\"\n",
        "\n",
        "string1=str(input(\"enter string1:\"))\n",
        "string2=str(input(\"enter string2:\"))\n",
        "string3=string1+string2\n",
        "print(string3)\n"
      ],
      "metadata": {
        "colab": {
          "base_uri": "https://localhost:8080/"
        },
        "id": "1zFlenP0YoYs",
        "outputId": "020c8236-7788-42a2-daba-3d4e8bd57dfd"
      },
      "execution_count": 10,
      "outputs": [
        {
          "output_type": "stream",
          "name": "stdout",
          "text": [
            "enter string1:Pavan\n",
            "enter string2:Kalyan\n",
            "PavanKalyan\n"
          ]
        }
      ]
    },
    {
      "cell_type": "code",
      "source": [
        "\"\"\"Design algorithm to accept a string from the user.count and print the number of times of each\n",
        "character occurs in the given string.\"\"\"\n",
        "\n",
        "from collections import Counter\n",
        "String=str(input(\"enter the string:\"))\n",
        "for i,j in Counter(String).items():\n",
        "    print(f\"{i}:{j}\")"
      ],
      "metadata": {
        "colab": {
          "base_uri": "https://localhost:8080/"
        },
        "id": "FvzlwZffY0ZI",
        "outputId": "b66f295e-a692-4acf-f435-ef71169a2ab9"
      },
      "execution_count": 13,
      "outputs": [
        {
          "output_type": "stream",
          "name": "stdout",
          "text": [
            "enter the string:Pavan Kalyan\n",
            "P:1\n",
            "a:4\n",
            "v:1\n",
            "n:2\n",
            " :1\n",
            "K:1\n",
            "l:1\n",
            "y:1\n"
          ]
        }
      ]
    },
    {
      "cell_type": "code",
      "source": [
        "\"\"\"Design an algorithm which accepts 2 strings from the user and performs the following operation on it.\n",
        "    both strings  must be concatenated but after reversing the second string\"\"\"\n",
        "\n",
        "string1=str(input(\"enter string1:\"))\n",
        "string2=str(input(\"enter string2:\"))\n",
        "string3=string1+string2[::-1]\n",
        "print(string3)"
      ],
      "metadata": {
        "colab": {
          "base_uri": "https://localhost:8080/"
        },
        "id": "VtCYq3VyYxpD",
        "outputId": "10aac807-543a-4253-c5b0-23b863d0165d"
      },
      "execution_count": 14,
      "outputs": [
        {
          "output_type": "stream",
          "name": "stdout",
          "text": [
            "enter string1:Hello\n",
            "enter string2:World\n",
            "HellodlroW\n"
          ]
        }
      ]
    }
  ]
}