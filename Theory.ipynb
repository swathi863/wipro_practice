{
  "nbformat": 4,
  "nbformat_minor": 0,
  "metadata": {
    "colab": {
      "provenance": [],
      "authorship_tag": "ABX9TyMzv0lldBgH2yF3E/C+Ebec",
      "include_colab_link": true
    },
    "kernelspec": {
      "name": "python3",
      "display_name": "Python 3"
    },
    "language_info": {
      "name": "python"
    }
  },
  "cells": [
    {
      "cell_type": "markdown",
      "metadata": {
        "id": "view-in-github",
        "colab_type": "text"
      },
      "source": [
        "<a href=\"https://colab.research.google.com/github/swathi863/wipro_practice/blob/main/Theory.ipynb\" target=\"_parent\"><img src=\"https://colab.research.google.com/assets/colab-badge.svg\" alt=\"Open In Colab\"/></a>"
      ]
    },
    {
      "cell_type": "code",
      "execution_count": 1,
      "metadata": {
        "id": "RyxKTgmWrjMD"
      },
      "outputs": [],
      "source": [
        "#Why do we need Regular Expressions?\n",
        "#Because it is flexibile,powerful,efficient way to search and match and manipluate the text."
      ]
    },
    {
      "cell_type": "code",
      "source": [
        "#What is difference between match() and search() functions in Regular Expressions.\n",
        "#match()-->it only checks the starting of the string.\n",
        "#search()-->it scans the whole string for the frist occurance."
      ],
      "metadata": {
        "id": "zE5Ct0CnsFQw"
      },
      "execution_count": 2,
      "outputs": []
    },
    {
      "cell_type": "code",
      "source": [
        "#Exception Handling"
      ],
      "metadata": {
        "id": "NtdHwMhrs7k3"
      },
      "execution_count": 3,
      "outputs": []
    },
    {
      "cell_type": "code",
      "source": [
        "#What will be th output for the print(5-'A)?\n",
        "#-->TypeError: unsupported operand type(s) for -: 'int' and 'str'\n"
      ],
      "metadata": {
        "id": "WaL4oI4LtFKZ"
      },
      "execution_count": 4,
      "outputs": []
    },
    {
      "cell_type": "code",
      "source": [
        "#Which block is always executed irrespective of the exception?\n",
        "#-->finally block always executed"
      ],
      "metadata": {
        "id": "HYZRJw0dtVZL"
      },
      "execution_count": 5,
      "outputs": []
    },
    {
      "cell_type": "code",
      "source": [
        "#which block is executed when there is no exception?\n",
        "#-->try->else->finally\n",
        "#-->with exception-->try->except->finally"
      ],
      "metadata": {
        "id": "UwsouiMitqJX"
      },
      "execution_count": 6,
      "outputs": []
    },
    {
      "cell_type": "markdown",
      "source": [],
      "metadata": {
        "id": "CV1x8Hh1vkGq"
      }
    },
    {
      "cell_type": "code",
      "source": [
        "#which is the basic class for all the exception classes?\n",
        "'''BaseException\n",
        " ├── SystemExit\n",
        " ├── KeyboardInterrupt\n",
        " ├── GeneratorExit\n",
        " └── Exception\n",
        "      ├── ArithmeticError\n",
        "      ├── LookupError\n",
        "      ├── ValueError\n",
        "      ├── TypeError\n",
        "      ├── ... (many others)\n",
        "'''"
      ],
      "metadata": {
        "colab": {
          "base_uri": "https://localhost:8080/",
          "height": 53
        },
        "id": "5n9NBQ2-uKCM",
        "outputId": "575b23aa-8694-4aed-9ade-15864075477b"
      },
      "execution_count": 7,
      "outputs": [
        {
          "output_type": "execute_result",
          "data": {
            "text/plain": [
              "'BaseException  \\n ├── SystemExit  \\n ├── KeyboardInterrupt  \\n ├── GeneratorExit  \\n └── Exception  \\n      ├── ArithmeticError  \\n      ├── LookupError  \\n      ├── ValueError  \\n      ├── TypeError  \\n      ├── ... (many others)\\n'"
            ],
            "application/vnd.google.colaboratory.intrinsic+json": {
              "type": "string"
            }
          },
          "metadata": {},
          "execution_count": 7
        }
      ]
    },
    {
      "cell_type": "code",
      "source": [
        "#Do we need any module to implement exception handling?\n",
        "#--->No"
      ],
      "metadata": {
        "id": "0vDUV9WWu1tl"
      },
      "execution_count": 8,
      "outputs": []
    },
    {
      "cell_type": "code",
      "source": [
        "# IO Operations"
      ],
      "metadata": {
        "id": "y2XXMKCVvKVb"
      },
      "execution_count": 9,
      "outputs": []
    },
    {
      "cell_type": "code",
      "source": [
        "#How to open a file in create mode?\n",
        "\"\"\"\n",
        "with open(\"myfile.txt\", \"x\") as f:\n",
        "    f.write(\"This is a new file.\")\n",
        "\n",
        "\"\"\""
      ],
      "metadata": {
        "colab": {
          "base_uri": "https://localhost:8080/",
          "height": 36
        },
        "id": "sfuf2n2YvrOm",
        "outputId": "afe33a31-52e2-4d96-f71b-805a473b0235"
      },
      "execution_count": 10,
      "outputs": [
        {
          "output_type": "execute_result",
          "data": {
            "text/plain": [
              "'\\nwith open(\"myfile.txt\", \"x\") as f:\\n    f.write(\"This is a new file.\")\\n\\n'"
            ],
            "application/vnd.google.colaboratory.intrinsic+json": {
              "type": "string"
            }
          },
          "metadata": {},
          "execution_count": 10
        }
      ]
    },
    {
      "cell_type": "code",
      "source": [
        "#which function reads one line at a time?\n",
        "'''\n",
        "with open(\"example.txt\", \"r\") as f:\n",
        "    line1 = f.readline()   # reads the first line\n",
        "    line2 = f.readline()   # reads the second line\n",
        "    print(line1)\n",
        "    print(line2)\n",
        "'''"
      ],
      "metadata": {
        "id": "Ut8ajVEWv-JH"
      },
      "execution_count": null,
      "outputs": []
    },
    {
      "cell_type": "code",
      "source": [
        "#which module is required to delete files or folders?\n",
        "'os.remove(\"myfile.txt\")   # deletes a file'\n",
        "'os.rmdir(\"empty_folder\")  # deletes ONLY if the folder is empty'"
      ],
      "metadata": {
        "colab": {
          "base_uri": "https://localhost:8080/",
          "height": 36
        },
        "id": "6DmMY6ldwUS_",
        "outputId": "50e89dc4-3bdd-47e7-d592-75867ad03ae1"
      },
      "execution_count": 11,
      "outputs": [
        {
          "output_type": "execute_result",
          "data": {
            "text/plain": [
              "'os.rmdir(\"empty_folder\")  # deletes ONLY if the folder is empty'"
            ],
            "application/vnd.google.colaboratory.intrinsic+json": {
              "type": "string"
            }
          },
          "metadata": {},
          "execution_count": 11
        }
      ]
    },
    {
      "cell_type": "code",
      "source": [
        "#Command Line Arguments"
      ],
      "metadata": {
        "id": "HaTnX8RMwXL9"
      },
      "execution_count": 12,
      "outputs": []
    },
    {
      "cell_type": "code",
      "source": [
        "#which module is required to access cmd line arguments?\n",
        "#-->sys module\n",
        "'''\n",
        "import sys\n",
        "\n",
        "print(\"Script name:\", sys.argv[0])   # script name\n",
        "print(\"Arguments:\", sys.argv[1:])    # list of arguments\n",
        "'''"
      ],
      "metadata": {
        "colab": {
          "base_uri": "https://localhost:8080/",
          "height": 36
        },
        "id": "VFzr115Ow6Co",
        "outputId": "188a2f23-bd7d-4b4a-f012-ee771874044b"
      },
      "execution_count": 13,
      "outputs": [
        {
          "output_type": "execute_result",
          "data": {
            "text/plain": [
              "'\\nimport sys\\n\\nprint(\"Script name:\", sys.argv[0])   # script name\\nprint(\"Arguments:\", sys.argv[1:])    # list of arguments\\n'"
            ],
            "application/vnd.google.colaboratory.intrinsic+json": {
              "type": "string"
            }
          },
          "metadata": {},
          "execution_count": 13
        }
      ]
    },
    {
      "cell_type": "code",
      "source": [
        "#Functions/Modules/Packages\n"
      ],
      "metadata": {
        "id": "1XSijnZtxXxW"
      },
      "execution_count": 14,
      "outputs": []
    },
    {
      "cell_type": "code",
      "source": [
        "#List few built in functions\n",
        "#-->print,input,len,type,int,float,str,abs,round,sum,max,min,sorted,range,enumerate,zip,dir,help"
      ],
      "metadata": {
        "id": "ZdngogiLxf5I"
      },
      "execution_count": 15,
      "outputs": []
    },
    {
      "cell_type": "code",
      "source": [
        "#which keyword marks the start of the function?\n",
        "#def keyword"
      ],
      "metadata": {
        "id": "TdeiwknFx6sx"
      },
      "execution_count": 16,
      "outputs": []
    },
    {
      "cell_type": "code",
      "source": [
        "#which keyword ends the execution of the function?\n",
        "#the return keyword ends the execution of a function and optionally sends a value back to the caller.\n",
        "#If you don’t use return, the function ends naturally and returns None.\n",
        "\n"
      ],
      "metadata": {
        "id": "YU9NQIrfyMT-"
      },
      "execution_count": 17,
      "outputs": []
    },
    {
      "cell_type": "code",
      "source": [
        "#which allows you to logically organize your python files?\n",
        "#---> modules and packages allow you to logically organize your Python files.\n",
        "#A module is just a single .py file containing functions, classes, or variables.\n",
        "\n",
        "#A package is a folder containing multiple modules and an __init__.py file (can be empty)."
      ],
      "metadata": {
        "id": "8QEr4D12ylzW"
      },
      "execution_count": 18,
      "outputs": []
    },
    {
      "cell_type": "code",
      "source": [
        "#How to import a module with alias name?\n",
        "#import math as m"
      ],
      "metadata": {
        "id": "Er33QF-FzIPc"
      },
      "execution_count": 19,
      "outputs": []
    },
    {
      "cell_type": "code",
      "source": [
        "#which command lists the built in modules?\n",
        "#you can list the built-in modules using the sys module."
      ],
      "metadata": {
        "id": "nsUVjeKyzZS7"
      },
      "execution_count": 20,
      "outputs": []
    },
    {
      "cell_type": "code",
      "source": [
        "#can we import multiple modules with single import statement?\n",
        "#Yes!  You can import multiple modules in a single import statement by separating them with commas.\n",
        "import math, sys, os\n",
        "\n",
        "print(math.sqrt(25))   # using math module\n",
        "print(sys.version)     # using sys module\n",
        "print(os.name)         # using os module\n"
      ],
      "metadata": {
        "colab": {
          "base_uri": "https://localhost:8080/"
        },
        "id": "BytcoDjhz2aR",
        "outputId": "38359fe7-4cea-4661-af1c-af27d7134573"
      },
      "execution_count": 21,
      "outputs": [
        {
          "output_type": "stream",
          "name": "stdout",
          "text": [
            "5.0\n",
            "3.11.13 (main, Jun  4 2025, 08:57:29) [GCC 11.4.0]\n",
            "posix\n"
          ]
        }
      ]
    },
    {
      "cell_type": "code",
      "source": [
        "#Data Structures"
      ],
      "metadata": {
        "id": "gNduAL2c0ORi"
      },
      "execution_count": 22,
      "outputs": []
    },
    {
      "cell_type": "code",
      "source": [
        "#Does list maintain insertion order?\n",
        "#Yes, in Python, a list maintains the insertion order.\n",
        "#When you add elements to a list, they stay in the same order you inserted them.\n",
        "nums = [10, 20, 30]\n",
        "nums.append(40)\n",
        "nums.append(50)\n",
        "\n",
        "print(nums)\n"
      ],
      "metadata": {
        "colab": {
          "base_uri": "https://localhost:8080/"
        },
        "id": "jW12OSKG0Sg7",
        "outputId": "c8b80373-c07a-415a-95a7-53a3868f2a31"
      },
      "execution_count": 23,
      "outputs": [
        {
          "output_type": "stream",
          "name": "stdout",
          "text": [
            "[10, 20, 30, 40, 50]\n"
          ]
        }
      ]
    },
    {
      "cell_type": "code",
      "source": [
        "#Can we access list items with negative index?\n",
        "#-->Yes!"
      ],
      "metadata": {
        "id": "3fxwzzW60dxU"
      },
      "execution_count": 24,
      "outputs": []
    },
    {
      "cell_type": "code",
      "source": [
        "#Which function empties the list?\n",
        "#----->clear()\n",
        "my_list = [1, 2, 3, 4]\n",
        "my_list.clear()   # removes all elements\n",
        "print(my_list)    # Output: []\n"
      ],
      "metadata": {
        "colab": {
          "base_uri": "https://localhost:8080/"
        },
        "id": "sJBzUOFk1BYv",
        "outputId": "ccb6bcec-6c9e-4bd5-d39a-63d372f4cf56"
      },
      "execution_count": 25,
      "outputs": [
        {
          "output_type": "stream",
          "name": "stdout",
          "text": [
            "[]\n"
          ]
        }
      ]
    },
    {
      "cell_type": "code",
      "source": [
        "#which class represents the group of characters?\n",
        "#regular expressions, the [] (square brackets) define a character class, which represents a group of characters to match.\n",
        "import re\n",
        "\n",
        "pattern = r\"[aeiou]\"   # character class for vowels\n",
        "result = re.findall(pattern, \"hello world\")\n",
        "print(result)  # ['e', 'o', 'o']\n"
      ],
      "metadata": {
        "colab": {
          "base_uri": "https://localhost:8080/"
        },
        "id": "EffRZ0KD1VkH",
        "outputId": "74f6cbbe-2b22-4135-8ec5-be25079fed69"
      },
      "execution_count": 26,
      "outputs": [
        {
          "output_type": "stream",
          "name": "stdout",
          "text": [
            "['e', 'o', 'o']\n"
          ]
        }
      ]
    },
    {
      "cell_type": "code",
      "source": [
        "#what is slicing?\n",
        "#Slicing in Python is a way to extract a portion (subsequence) of a sequence like a list, string, or tuple using a special syntax:\n",
        "\n",
        "#sequence[start : stop : step]"
      ],
      "metadata": {
        "id": "v2KbSRN-1r0f"
      },
      "execution_count": 27,
      "outputs": []
    },
    {
      "cell_type": "code",
      "source": [
        "#which function toggles the cases?\n",
        "#the swapcase() function toggles the case of all letters in a string:\n",
        "\n",
        "#Uppercase → Lowercase\n",
        "\n",
        "#Lowercase → Uppercase"
      ],
      "metadata": {
        "id": "6Rx855jR197_"
      },
      "execution_count": 28,
      "outputs": []
    },
    {
      "cell_type": "code",
      "source": [
        "#Does set take duplicate elements?\n",
        "#NO"
      ],
      "metadata": {
        "id": "LQ1UuaLC2gFm"
      },
      "execution_count": null,
      "outputs": []
    },
    {
      "cell_type": "code",
      "source": [
        "#Python Fundamentals"
      ],
      "metadata": {
        "id": "nJZY7RPi2rP_"
      },
      "execution_count": 29,
      "outputs": []
    },
    {
      "cell_type": "code",
      "source": [
        "#List Out few Scripting Languages?\n",
        "'''\n",
        "Python\n",
        "\n",
        "JavaScript\n",
        "\n",
        "Ruby\n",
        "\n",
        "Perl\n",
        "\n",
        "PHP\n",
        "\n",
        "Shell Script (Bash)\n",
        "\n",
        "PowerShell\n",
        "\n",
        "Lua\n",
        "\n",
        "Tcl\n",
        "\n",
        "VBScript\n",
        "'''"
      ],
      "metadata": {
        "colab": {
          "base_uri": "https://localhost:8080/",
          "height": 36
        },
        "id": "tMwaJ8jg2vsg",
        "outputId": "5b54989a-1414-44fd-f1fb-83e289301b6d"
      },
      "execution_count": 30,
      "outputs": [
        {
          "output_type": "execute_result",
          "data": {
            "text/plain": [
              "'\\nPython\\n\\nJavaScript\\n\\nRuby\\n\\nPerl\\n\\nPHP\\n\\nShell Script (Bash)\\n\\nPowerShell\\n\\nLua\\n\\nTcl\\n\\nVBScript\\n'"
            ],
            "application/vnd.google.colaboratory.intrinsic+json": {
              "type": "string"
            }
          },
          "metadata": {},
          "execution_count": 30
        }
      ]
    },
    {
      "cell_type": "code",
      "source": [
        "#What is the another name for python 3.0?\n",
        "\n",
        "#Another name for Python 3.0 is “Python 3000” or “Py3k”.\n"
      ],
      "metadata": {
        "id": "dyLwbaHk3Ao6"
      },
      "execution_count": 31,
      "outputs": []
    },
    {
      "cell_type": "code",
      "source": [
        "#Which command enaables the interactive terminal mode?\n",
        "#Simply running the python (or python3 on some systems) command in your terminal enables the interactive mode"
      ],
      "metadata": {
        "id": "0xDgJ-JZ3QQZ"
      },
      "execution_count": 32,
      "outputs": []
    },
    {
      "cell_type": "code",
      "source": [
        "#List out few mutable datatypes?\n",
        "#List,dictionary,set,bitarray"
      ],
      "metadata": {
        "id": "9CmtBkwe3fDh"
      },
      "execution_count": null,
      "outputs": []
    },
    {
      "cell_type": "code",
      "source": [
        "#which function returns the location of an object?\n",
        "x = 10\n",
        "print(id(x))\n"
      ],
      "metadata": {
        "colab": {
          "base_uri": "https://localhost:8080/"
        },
        "id": "MvvenBhU3tZT",
        "outputId": "aa880498-fe23-4580-9fc1-1b197212b08a"
      },
      "execution_count": 33,
      "outputs": [
        {
          "output_type": "stream",
          "name": "stdout",
          "text": [
            "10758024\n"
          ]
        }
      ]
    },
    {
      "cell_type": "code",
      "source": [
        "#Which Operator does integer division?\n",
        "#the // (floor division) operator performs integer division."
      ],
      "metadata": {
        "id": "N-SUTZ2a4Lt_"
      },
      "execution_count": 34,
      "outputs": []
    },
    {
      "cell_type": "code",
      "source": [
        "#what is type casting?\n",
        "#1. Implicit Type Casting (Type Conversion)\n",
        "#Python automatically converts one type to another when needed.\n",
        "x = 5     # int\n",
        "y = 2.5   # float\n",
        "result = x + y   # Python converts int → float automatically\n",
        "print(result)    # 7.5\n",
        "# 2. Explicit Type Casting\n",
        "#You manually convert a value to another type using functions like:\n",
        "\n",
        "#int() → convert to integer\n",
        "\n",
        "#float() → convert to float\n",
        "\n",
        "#str() → convert to string\n",
        "\n",
        "#list() → convert to list\n",
        "a = \"10\"\n",
        "b = int(a)   # convert string to int\n",
        "print(b + 5) # 15\n",
        "#So, type casting = changing data type explicitly or implicitly."
      ],
      "metadata": {
        "colab": {
          "base_uri": "https://localhost:8080/"
        },
        "id": "jYxCOcGi4Y2R",
        "outputId": "e0aeeac1-0c94-4daf-ccb5-e776185fcaa0"
      },
      "execution_count": 36,
      "outputs": [
        {
          "output_type": "stream",
          "name": "stdout",
          "text": [
            "7.5\n",
            "15\n"
          ]
        }
      ]
    },
    {
      "cell_type": "code",
      "source": [
        "#How to do multi line comment?\n",
        "\"\"\"\n",
        "\n",
        "\"\"\""
      ],
      "metadata": {
        "colab": {
          "base_uri": "https://localhost:8080/",
          "height": 36
        },
        "id": "g6asiJpS41DR",
        "outputId": "a6b75341-e4e7-4744-e980-6fed8cd580bb"
      },
      "execution_count": 38,
      "outputs": [
        {
          "output_type": "execute_result",
          "data": {
            "text/plain": [
              "'\\n\\n'"
            ],
            "application/vnd.google.colaboratory.intrinsic+json": {
              "type": "string"
            }
          },
          "metadata": {},
          "execution_count": 38
        }
      ]
    },
    {
      "cell_type": "code",
      "source": [
        "#which bulit in function returns the sequence of integers?\n",
        "#The built-in function that returns a sequence of integers is range()\n",
        "\n",
        "\n",
        "nums = range(5)     # generates 0,1,2,3,4\n",
        "print(list(nums))"
      ],
      "metadata": {
        "colab": {
          "base_uri": "https://localhost:8080/"
        },
        "id": "FUl9vMqW47oM",
        "outputId": "a66a744b-b099-4401-f2b7-baed5a3329ae"
      },
      "execution_count": 40,
      "outputs": [
        {
          "output_type": "stream",
          "name": "stdout",
          "text": [
            "[0, 1, 2, 3, 4]\n"
          ]
        }
      ]
    },
    {
      "cell_type": "code",
      "source": [
        "#Can we write statements after break keyword?\n",
        "#You can write statements after a break keyword in your code, but they will never execute, because break immediately exits the loop.\n",
        "for i in range(5):\n",
        "    print(i)\n",
        "    break\n",
        "    print(\"This will never run\")  # Unreachable\n"
      ],
      "metadata": {
        "colab": {
          "base_uri": "https://localhost:8080/"
        },
        "id": "vMLyW86M5axh",
        "outputId": "8bfc9563-6519-4fe7-8891-6b4102f6a6af"
      },
      "execution_count": 41,
      "outputs": [
        {
          "output_type": "stream",
          "name": "stdout",
          "text": [
            "0\n"
          ]
        }
      ]
    },
    {
      "cell_type": "code",
      "source": [
        "#Can we use else with for?\n",
        "#YES\n",
        "for i in range(3):\n",
        "    print(i)\n",
        "else:\n",
        "    print(\"Loop finished without break\")\n"
      ],
      "metadata": {
        "colab": {
          "base_uri": "https://localhost:8080/"
        },
        "id": "huH-susk5Ozr",
        "outputId": "43ccbcda-b2b2-4685-c8ac-652bea02cafe"
      },
      "execution_count": 42,
      "outputs": [
        {
          "output_type": "stream",
          "name": "stdout",
          "text": [
            "0\n",
            "1\n",
            "2\n",
            "Loop finished without break\n"
          ]
        }
      ]
    },
    {
      "cell_type": "code",
      "source": [
        "#which statement does nothing?\n",
        "#The statement that does nothing in Python is pass\n",
        "for i in range(5):\n",
        "    if i == 3:\n",
        "        pass   # does nothing, just a placeholder\n",
        "    else:\n",
        "        print(i)\n"
      ],
      "metadata": {
        "colab": {
          "base_uri": "https://localhost:8080/"
        },
        "id": "LPMvdLLW5rWw",
        "outputId": "c91b4588-4ca8-4a1f-fd19-683bc2a434be"
      },
      "execution_count": 43,
      "outputs": [
        {
          "output_type": "stream",
          "name": "stdout",
          "text": [
            "0\n",
            "1\n",
            "2\n",
            "4\n"
          ]
        }
      ]
    },
    {
      "cell_type": "code",
      "source": [],
      "metadata": {
        "id": "tg_4QVTP556L"
      },
      "execution_count": null,
      "outputs": []
    }
  ]
}