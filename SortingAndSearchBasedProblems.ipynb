{
  "nbformat": 4,
  "nbformat_minor": 0,
  "metadata": {
    "colab": {
      "provenance": [],
      "authorship_tag": "ABX9TyP4arNQ0o8bDoIS7g1wHmO6",
      "include_colab_link": true
    },
    "kernelspec": {
      "name": "python3",
      "display_name": "Python 3"
    },
    "language_info": {
      "name": "python"
    }
  },
  "cells": [
    {
      "cell_type": "markdown",
      "metadata": {
        "id": "view-in-github",
        "colab_type": "text"
      },
      "source": [
        "<a href=\"https://colab.research.google.com/github/swathi863/wipro_practice/blob/main/SortingAndSearchBasedProblems.ipynb\" target=\"_parent\"><img src=\"https://colab.research.google.com/assets/colab-badge.svg\" alt=\"Open In Colab\"/></a>"
      ]
    },
    {
      "cell_type": "code",
      "execution_count": 1,
      "metadata": {
        "colab": {
          "base_uri": "https://localhost:8080/"
        },
        "id": "iLmTldzP05dC",
        "outputId": "ec9ae01b-e0dd-40bc-f11b-1c14d38e73c3"
      },
      "outputs": [
        {
          "output_type": "stream",
          "name": "stdout",
          "text": [
            "enter 10 elements to the array: 12 23 34 56 67 89 0 12 23 45\n",
            "0 34 67 12 45 23 56 89 "
          ]
        }
      ],
      "source": [
        "\"Design an algorithm to remove all duplicate elements from an orderd array(may br ascending or descending order) and contract accordingly\"\n",
        "n=list(map(int,input(\"enter 10 elements to the array: \").split(\" \")))\n",
        "n.sort()\n",
        "s=set(n)\n",
        "for i in s:\n",
        "  print(i,end=\" \")"
      ]
    },
    {
      "cell_type": "code",
      "source": [
        "\"\"\"Design an algorithm to acept 25 integer elements for an array.then find the number with maximum value in the set and the position\n",
        "      - when it occurs frist\n",
        "      - when it occur last\"\"\"\n",
        "from collections import Counter\n",
        "n=list(map(int,input(\"enter 10 elements to the array: \").split(\" \")))\n",
        "target=max(n)\n",
        "print(\"Maximum Value:\",target)\n",
        "print(\"frist occurance:\",n.index(target))\n",
        "for i in range(len(n)-1,-1,-1):\n",
        "  if n[i]==target:\n",
        "    last=i\n",
        "    break\n",
        "print(\"last occurance:\",last)"
      ],
      "metadata": {
        "colab": {
          "base_uri": "https://localhost:8080/"
        },
        "id": "LrZ0411J1IEX",
        "outputId": "0e24767f-72b6-4747-a20e-ec2eb521c6b0"
      },
      "execution_count": 2,
      "outputs": [
        {
          "output_type": "stream",
          "name": "stdout",
          "text": [
            "enter 10 elements to the array: 12 5 99 18 7 99 3 45 99 12 18 19 8 66 99 2 1 88 77 99 23 10 33 99 4\n",
            "Maximum Value: 99\n",
            "frist occurance: 2\n",
            "last occurance: 23\n"
          ]
        }
      ]
    },
    {
      "cell_type": "code",
      "source": [
        "\"\"\"Design an algorithm to find the positions of a number X(entered by user and if it occur) in a  array of 15 elements.Array elements are also entered by the user.\"\"\"\n",
        "n=list(map(int,input(\"enter 10 elements to the array: \").split(\" \")))\n",
        "target=int(input(\"enter a number\"))\n",
        "if target in n:\n",
        "  pos=[]\n",
        "  for i in range(len(n)):\n",
        "    if n[i]==target:\n",
        "      pos.append(i)\n",
        "  print(pos)\n",
        "\n",
        "else:\n",
        "  print(\"element not a found\")"
      ],
      "metadata": {
        "colab": {
          "base_uri": "https://localhost:8080/"
        },
        "id": "vpnotdGs1Pn5",
        "outputId": "ea09475d-52c5-4958-c5ac-08c2c60d4605"
      },
      "execution_count": 3,
      "outputs": [
        {
          "output_type": "stream",
          "name": "stdout",
          "text": [
            "enter 10 elements to the array: 4 7 2 8 3 2 6 9 2 1 5 0 2 6 3\n",
            "enter a number2\n",
            "[2, 5, 8, 12]\n"
          ]
        }
      ]
    },
    {
      "cell_type": "code",
      "source": [
        "\"Design an algorithm to accept element for 2 random arrays. Rearrange the elements of array in descending order then merge them into form one aaray.\"\n",
        "arr=list(map(int,input(\"enter the array elements:\").split(\" \")))\n",
        "arr1=list(map(int,input(\"enter the array elements:\").split(\" \")))\n",
        "arr.sort(reverse=True)\n",
        "arr1.sort(reverse=True)\n",
        "res=arr+arr1\n",
        "res.sort(reverse=True)\n",
        "print(res)\n"
      ],
      "metadata": {
        "colab": {
          "base_uri": "https://localhost:8080/"
        },
        "id": "X3EIQwPJ1VXq",
        "outputId": "faa15fb1-4841-4f66-b659-5326be7443d0"
      },
      "execution_count": 4,
      "outputs": [
        {
          "output_type": "stream",
          "name": "stdout",
          "text": [
            "enter the array elements:32 4 51 5\n",
            "enter the array elements:12 56 78 9\n",
            "[78, 56, 51, 32, 12, 9, 5, 4]\n"
          ]
        }
      ]
    },
    {
      "cell_type": "code",
      "source": [
        "\"\"\" Design an algorithm to accept 10 interger elements for an array and rearrange the elements in\n",
        "    desending order.The new array must be printed to the user.\"\"\"\n",
        "#selection sort\n",
        "n=list(map(int,input(\"enter 10 elements to the array: \").split(\" \")))\n",
        "for i in range(len(n)):\n",
        "  for j in range(i+1,len(n)):\n",
        "    if n[i]<n[j]:\n",
        "      n[i],n[j]=n[j],n[i]\n",
        "print(n)\n",
        "#by using sorting\n",
        "n1=list(map(int,input(\"enter 10 elements to the array:\").split(\" \")))\n",
        "n1.sort(reverse=True)\n",
        "print(n1)"
      ],
      "metadata": {
        "colab": {
          "base_uri": "https://localhost:8080/"
        },
        "id": "uRPnJJu21eMx",
        "outputId": "3a80c874-0b3f-49f1-a257-49da440f46db"
      },
      "execution_count": 5,
      "outputs": [
        {
          "output_type": "stream",
          "name": "stdout",
          "text": [
            "enter 10 elements to the array: 12 3 1 56 2 89 1 34 67 12\n",
            "[89, 67, 56, 34, 12, 12, 3, 2, 1, 1]\n",
            "enter 10 elements to the array:12 5 8 2 6 0 12 56 1 67\n",
            "[67, 56, 12, 12, 8, 6, 5, 2, 1, 0]\n"
          ]
        }
      ]
    }
  ]
}