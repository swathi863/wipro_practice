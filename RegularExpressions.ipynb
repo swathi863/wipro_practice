{
  "nbformat": 4,
  "nbformat_minor": 0,
  "metadata": {
    "colab": {
      "provenance": [],
      "authorship_tag": "ABX9TyMiSZD5vmb1+byNNuIW/qQn",
      "include_colab_link": true
    },
    "kernelspec": {
      "name": "python3",
      "display_name": "Python 3"
    },
    "language_info": {
      "name": "python"
    }
  },
  "cells": [
    {
      "cell_type": "markdown",
      "metadata": {
        "id": "view-in-github",
        "colab_type": "text"
      },
      "source": [
        "<a href=\"https://colab.research.google.com/github/swathi863/wipro_practice/blob/main/RegularExpressions.ipynb\" target=\"_parent\"><img src=\"https://colab.research.google.com/assets/colab-badge.svg\" alt=\"Open In Colab\"/></a>"
      ]
    },
    {
      "cell_type": "code",
      "execution_count": null,
      "metadata": {
        "colab": {
          "base_uri": "https://localhost:8080/"
        },
        "id": "SsGrhUvB3XvX",
        "outputId": "78b5ea4c-69ee-4eda-eccf-de9232d018ae"
      },
      "outputs": [
        {
          "output_type": "stream",
          "name": "stdout",
          "text": [
            "enter how numbers are entering:3\n",
            "enter the number:123\n",
            "enter the number:789\n",
            "enter the number:004\n",
            "string not only have octal digit\n"
          ]
        }
      ],
      "source": [
        "#write a program to find check if the given string has only octal digits.Given string['789','123','004']\n",
        "n=int(input(\"enter how numbers are entering:\"))\n",
        "list1=[]\n",
        "for _ in range(n):\n",
        "  num=str(input(\"enter the number:\"))\n",
        "  list1.append(num)\n",
        "c=0\n",
        "for i in list1:\n",
        "  for j in i:\n",
        "    if int(j)>=8:\n",
        "      c=1\n",
        "      break\n",
        "  if c==1:\n",
        "    break\n",
        "if c==0:\n",
        "  print(\"String has only octal digits\")\n",
        "else:\n",
        "  print(\"string not only have octal digit\")\n"
      ]
    },
    {
      "cell_type": "code",
      "source": [
        "#write a program to find check if the given string has only octal digits.Given string['789','123','004']\n",
        "import re\n",
        "n=int(input(\"enter how numbers are entering:\"))\n",
        "list1=[]\n",
        "for _ in range(n):\n",
        "  num=str(input(\"enter the number:\"))\n",
        "  list1.append(num)\n",
        "c=True\n",
        "pattern=re.compile(r'^[0-7]+$')\n",
        "for i in list1:\n",
        "  if not pattern.match(i):\n",
        "    c=False\n",
        "    break\n",
        "if c==True:\n",
        "  print(\"string only has octal digits\")\n",
        "else:\n",
        "  print(\"string not only has octal digits\")"
      ],
      "metadata": {
        "colab": {
          "base_uri": "https://localhost:8080/"
        },
        "id": "w3mKr5bh4RIN",
        "outputId": "21398610-f0ec-4369-a246-35e86324948e"
      },
      "execution_count": null,
      "outputs": [
        {
          "output_type": "stream",
          "name": "stdout",
          "text": [
            "enter how numbers are entering:3\n",
            "enter the number:123\n",
            "enter the number:789\n",
            "enter the number:004\n",
            "string not only has octal digits\n"
          ]
        }
      ]
    },
    {
      "cell_type": "code",
      "source": [
        "\"\"\"\n",
        "Extract the user id,domain id and suffix from the email  address\n",
        "1.zuck@facebook.com\n",
        "2.swathi37@google.com\n",
        "3.radhik09@amazon.com\n",
        "\"\"\"\n",
        "import re\n",
        "email=input(\"enter the email:\")\n",
        "pattern=re.compile(r\"^(\\w+)@([a-z]+)\\.([a-z]{3})\")\n",
        "res=pattern.match(email)\n",
        "if res:\n",
        "  print(\"user id:\",res.group(1))\n",
        "  print(\"domain id:\",res.group(2))\n",
        "  print(\"suffix:\",res.group(3))\n",
        "else:\n",
        "  print(\"Invalid email\")\n"
      ],
      "metadata": {
        "colab": {
          "base_uri": "https://localhost:8080/"
        },
        "id": "zcpiv3Ue9anK",
        "outputId": "34160bf2-5bc4-4823-e3e3-6bcb5aeff118"
      },
      "execution_count": null,
      "outputs": [
        {
          "output_type": "stream",
          "name": "stdout",
          "text": [
            "enter the email:radhik09@amazon.com\n",
            "user id: radhik09\n",
            "domain id: amazon\n",
            "suffix: com\n"
          ]
        }
      ]
    },
    {
      "cell_type": "code",
      "source": [
        "\"\"\"\n",
        "split the following irregular sentence into proper words\n",
        "sen=A,very,very;irregular_sentence\n",
        "o/p:A very very irregular sentence\n",
        "\"\"\"\n",
        "import re\n",
        "sen=input(\"Enter the sentence:\")\n",
        "pattern=re.compile(r\"[,;_]\")\n",
        "res=pattern.split(sen)\n",
        "print(\" \".join(res))\n"
      ],
      "metadata": {
        "colab": {
          "base_uri": "https://localhost:8080/"
        },
        "id": "tVhtWpIAIkUG",
        "outputId": "7f7e6a15-1035-475b-ea03-4a625373e316"
      },
      "execution_count": null,
      "outputs": [
        {
          "output_type": "stream",
          "name": "stdout",
          "text": [
            "Enter the sentence:A,very,very;irregular_sentence\n",
            "A very very irregular sentence\n"
          ]
        }
      ]
    },
    {
      "cell_type": "code",
      "source": [
        "\"\"\"\n",
        "clean up the following tweeet so that it contains only the user message.this is,remove all Urls,hashtags,mentions,punctuations, RTs and CCs\n",
        "#tweet=Good Advice! RT @TheNextWeb: What I would do differntly if I was learnning to code today http://t.co/lbwej0pxOd cc: @garybernhardt #rstats\n",
        "\"\"\"\n",
        "import re\n",
        "tweet = input(\"enter: \")\n",
        "words = re.split(r\"\\s+\", tweet)\n",
        "pattern = re.compile(r\"^[a-zA-Z]+$\")\n",
        "url = re.compile(r\"^https?://\")\n",
        "letters = re.compile(r\"^(RT|cc)$\", re.IGNORECASE)\n",
        "res1 = []\n",
        "for w in words:\n",
        "    if w.startswith(\"@\") or w.startswith(\"#\"):\n",
        "        continue\n",
        "    if url.match(w):\n",
        "        continue\n",
        "    w_clean = re.sub(r\"[^\\w\\s]\", \"\", w)\n",
        "\n",
        "    if not w_clean:\n",
        "        continue\n",
        "    if pattern.match(w_clean) and not letters.match(w_clean):\n",
        "        res1.append(w_clean)\n",
        "cleaned_tweet = \" \".join(res1)\n",
        "print(cleaned_tweet)\n"
      ],
      "metadata": {
        "colab": {
          "base_uri": "https://localhost:8080/"
        },
        "id": "ApB-zflXcL4K",
        "outputId": "0c60e0f0-ba23-4c8a-b620-20b5c0399e12"
      },
      "execution_count": null,
      "outputs": [
        {
          "output_type": "stream",
          "name": "stdout",
          "text": [
            "enter: Good Advice! RT @TheNextWeb: What I would do differntly if I was learnning to code today http://t.co/lbwej0pxOd cc: @garybernhardt #rstats \n",
            "Good Advice What I would do differntly if I was learnning to code today\n"
          ]
        }
      ]
    },
    {
      "cell_type": "code",
      "source": [
        "\"\"\"\n",
        "extract all the text portions between the tags from the following HTML page:\n",
        "https://raw.githubusercontent.com/selva86/datasets/master/sample.html\n",
        "\n",
        "code to retrieve the HTML page is given below\n",
        "r=\n",
        "request.get(\"https://raw.githubusercontent.com/selva86/datasets/master/sample.html\")\n",
        "re.text #html text is contained here\n",
        "desired_output=['Your Title Here','Link Name','This is a Header','This is a Medium Header','This is a new paragrapg!','This is a another paragraoh!','This is a new sentence without a paragraph break,in bold italics]\n",
        "\"\"\"\n",
        "import re\n",
        "import requests\n",
        "\n",
        "r = requests.get(\"https://raw.githubusercontent.com/selva86/datasets/master/sample.html\")\n",
        "html_text = r.text\n",
        "\n",
        "# Extract text between tags\n",
        "matches = re.findall(r'>([^<>]+)<', html_text)\n",
        "\n",
        "# Clean spaces\n",
        "matches = [m.strip() for m in matches if m.strip()]\n",
        "\n",
        "print(matches)\n",
        "\n"
      ],
      "metadata": {
        "id": "HUb01iFSVrJo",
        "colab": {
          "base_uri": "https://localhost:8080/"
        },
        "outputId": "d623d4f6-f449-4c33-f869-2f985d3084ca"
      },
      "execution_count": null,
      "outputs": [
        {
          "output_type": "stream",
          "name": "stdout",
          "text": [
            "['Your Title Here', 'Link Name', 'This is a Header', 'This is a Medium Header', 'This is a new paragraph!', 'This is a another paragraph!', 'This is a new sentence without a paragraph break, in bold italics.']\n"
          ]
        }
      ]
    },
    {
      "cell_type": "code",
      "source": [
        "\"\"\"\n",
        "Given below list of words,identify the words that begin and end with the same character.\n",
        "civic\n",
        "trust\n",
        "windows\n",
        "maximum\n",
        "musems\n",
        "aa\n",
        "as\n",
        "\"\"\"\n",
        "import re\n",
        "text=input()\n",
        "start=r\"\\b\\w\"\n",
        "end=r\"\\w\\b\"\n",
        "start_word=re.findall(start,text)\n",
        "end_word=re.findall(end,text)\n",
        "if start_word[0]==end_word[0]:\n",
        "  print(\"the word start with and end with same charcter:\",text)\n",
        "else:\n",
        "  print(\"the word does not start and end with the same character:\",text)"
      ],
      "metadata": {
        "colab": {
          "base_uri": "https://localhost:8080/"
        },
        "id": "tcWjqBtjjyr7",
        "outputId": "314d2f9a-3caa-4f37-e3fb-7be41ed3adcc"
      },
      "execution_count": null,
      "outputs": [
        {
          "output_type": "stream",
          "name": "stdout",
          "text": [
            "civic\n",
            "the word start with and end with same charcter: civic\n"
          ]
        }
      ]
    }
  ]
}