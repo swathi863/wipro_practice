{
  "nbformat": 4,
  "nbformat_minor": 0,
  "metadata": {
    "colab": {
      "provenance": [],
      "authorship_tag": "ABX9TyPduXtWXrZ/W3aBqReYyvcm",
      "include_colab_link": true
    },
    "kernelspec": {
      "name": "python3",
      "display_name": "Python 3"
    },
    "language_info": {
      "name": "python"
    }
  },
  "cells": [
    {
      "cell_type": "markdown",
      "metadata": {
        "id": "view-in-github",
        "colab_type": "text"
      },
      "source": [
        "<a href=\"https://colab.research.google.com/github/swathi863/wipro_practice/blob/main/NumberBasedProblems.ipynb\" target=\"_parent\"><img src=\"https://colab.research.google.com/assets/colab-badge.svg\" alt=\"Open In Colab\"/></a>"
      ]
    },
    {
      "cell_type": "code",
      "execution_count": 1,
      "metadata": {
        "colab": {
          "base_uri": "https://localhost:8080/"
        },
        "id": "VNlPt8Vrw0ni",
        "outputId": "f6d28f86-d35c-4901-87b8-65dc5d8bb1fc"
      },
      "outputs": [
        {
          "output_type": "stream",
          "name": "stdout",
          "text": [
            "enter the value for a:10\n",
            "enter the value for b:20\n",
            "enter the value for c:30\n",
            "30 10 20\n"
          ]
        }
      ],
      "source": [
        "\"\"\"\n",
        "Design an algorithm that performs that the following  operations\n",
        "   consider we have 3 variables a,b,c\n",
        "      Data movement to be done as below\n",
        "         -move original content a to b\n",
        "         -move original content b to c\n",
        "         -move original content c to a\n",
        "\n",
        "\"\"\"\n",
        "a=int(input(\"enter the value for a:\"))\n",
        "b=int(input(\"enter the value for b:\"))\n",
        "c=int(input(\"enter the value for c:\"))\n",
        "temp1=b\n",
        "temp2=c\n",
        "b=a\n",
        "c=temp1\n",
        "a=temp2\n",
        "print(a,b,c)\n"
      ]
    },
    {
      "cell_type": "code",
      "source": [
        "\"\"\"\n",
        "Given a set 3 students examination marks(in the range 0 to 100),\n",
        "make a count of the number of students that have passed the exam.\n",
        "A pass is awared if the students marks is greater than or equal to 35\n",
        "\"\"\"\n",
        "\n",
        "n=int(input(\"enter no.of students\"))\n",
        "count=0\n",
        "for _ in range(n):\n",
        "    marks=int(input(\"enter the student marks:\"))\n",
        "    if marks>=35:\n",
        "        count+=1\n",
        "print(f\"{count} students  are passed\")\n"
      ],
      "metadata": {
        "colab": {
          "base_uri": "https://localhost:8080/"
        },
        "id": "bievzF0dxD2M",
        "outputId": "93acc1bc-df12-4122-c3bd-7691be9e343e"
      },
      "execution_count": 2,
      "outputs": [
        {
          "output_type": "stream",
          "name": "stdout",
          "text": [
            "enter no.of students3\n",
            "enter the student marks:23\n",
            "enter the student marks:45\n",
            "enter the student marks:67\n",
            "2 students  are passed\n"
          ]
        }
      ]
    },
    {
      "cell_type": "code",
      "source": [
        "\n",
        "\"\"\"Design an algorithm that reads a list of 5 nummbers(both+ve and -ve)\n",
        "and makes a count of the number of negative and non-negative integers in the list\"\"\"\n",
        "\n",
        "nums=list(map(int,input(\"enter the numbers with space :\").split(\" \")))\n",
        "positive=0\n",
        "negative=0\n",
        "for i in nums:\n",
        "    if i>=0:\n",
        "        positive+=1\n",
        "    else:\n",
        "        negative+=1\n",
        "print(\"positive numbers are :\",positive)\n",
        "print(\"negative numbers are :\",negative)\n"
      ],
      "metadata": {
        "colab": {
          "base_uri": "https://localhost:8080/"
        },
        "id": "eOJGPrHZxLrD",
        "outputId": "71192307-6d06-4952-9b31-cae944fdac21"
      },
      "execution_count": 3,
      "outputs": [
        {
          "output_type": "stream",
          "name": "stdout",
          "text": [
            "enter the numbers with space :0 -1 1 2 3 -5 -6\n",
            "positive numbers are : 4\n",
            "negative numbers are : 3\n"
          ]
        }
      ]
    },
    {
      "cell_type": "code",
      "source": [
        "\"\"\" Design an algorithm that reads a number from the user and tells\n",
        "if it is even or odd or zero.\"\"\"\n",
        "\n",
        "num=int(input(\"enter a number\"))\n",
        "if num>0:\n",
        "    print(\"number is positive\")\n",
        "elif num<0:\n",
        "    print(\"number is negative\")\n",
        "else:\n",
        "    print(\"number is zero\")\n"
      ],
      "metadata": {
        "colab": {
          "base_uri": "https://localhost:8080/"
        },
        "id": "fXfgDUTbxYV8",
        "outputId": "5c73a48c-ec80-4ecb-dbcb-2c7f2ec4d24e"
      },
      "execution_count": 5,
      "outputs": [
        {
          "output_type": "stream",
          "name": "stdout",
          "text": [
            "enter a number2\n",
            "number is positive\n"
          ]
        }
      ]
    },
    {
      "cell_type": "code",
      "source": [
        "\"\"\"Given a set of 3 numbers,design an algorithm that adds these numbers\n",
        "and returns the resultant sum\"\"\"\n",
        "\n",
        "nums=list(map(int,input(\"enter the 3 numbers:\").split(\" \")))\n",
        "print(sum(nums))\n"
      ],
      "metadata": {
        "colab": {
          "base_uri": "https://localhost:8080/"
        },
        "id": "iFvY-EXUxkXt",
        "outputId": "080667fc-a1c1-4782-c269-d8ddbf6a87aa"
      },
      "execution_count": 6,
      "outputs": [
        {
          "output_type": "stream",
          "name": "stdout",
          "text": [
            "enter the 3 numbers:1 2 3 4 5 6 7 8 9 10\n",
            "55\n"
          ]
        }
      ]
    }
  ]
}