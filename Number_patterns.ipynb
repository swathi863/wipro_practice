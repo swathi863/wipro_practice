{
  "nbformat": 4,
  "nbformat_minor": 0,
  "metadata": {
    "colab": {
      "provenance": [],
      "authorship_tag": "ABX9TyM/F2dZ9HiAftxKRX4GbGPh",
      "include_colab_link": true
    },
    "kernelspec": {
      "name": "python3",
      "display_name": "Python 3"
    },
    "language_info": {
      "name": "python"
    }
  },
  "cells": [
    {
      "cell_type": "markdown",
      "metadata": {
        "id": "view-in-github",
        "colab_type": "text"
      },
      "source": [
        "<a href=\"https://colab.research.google.com/github/swathi863/wipro_practice/blob/main/Number_patterns.ipynb\" target=\"_parent\"><img src=\"https://colab.research.google.com/assets/colab-badge.svg\" alt=\"Open In Colab\"/></a>"
      ]
    },
    {
      "cell_type": "code",
      "execution_count": 1,
      "metadata": {
        "colab": {
          "base_uri": "https://localhost:8080/"
        },
        "id": "qDaPeUYgXTGV",
        "outputId": "1aa55384-744f-429b-d00b-e38a63d664e4"
      },
      "outputs": [
        {
          "output_type": "stream",
          "name": "stdout",
          "text": [
            "\n",
            "1 \n",
            "2 2 \n",
            "3 3 3 \n",
            "4 4 4 4 \n",
            "5 5 5 5 5 \n"
          ]
        }
      ],
      "source": [
        "rows = 6\n",
        "# if you want user to enter a number, uncomment the below line\n",
        "# rows = int(input('Enter the number of rows'))\n",
        "# outer loop\n",
        "for i in range(rows):\n",
        "    # nested loop\n",
        "    for j in range(i):\n",
        "        # display number\n",
        "        print(i, end=' ')\n",
        "    # new line after each row\n",
        "    print('')"
      ]
    },
    {
      "cell_type": "code",
      "source": [
        "rows = 6\n",
        "# if you want user to enter a number, uncomment the below line\n",
        "# rows = int(input('Enter the number of rows'))\n",
        "# outer loop\n",
        "for i in range(rows):\n",
        "    # nested loop\n",
        "    for j in range(i):\n",
        "        # display number\n",
        "        print(i, end=' ')\n",
        "    # new line after each row\n",
        "    print('')"
      ],
      "metadata": {
        "colab": {
          "base_uri": "https://localhost:8080/"
        },
        "id": "blfzkgfVX5Gj",
        "outputId": "e841e038-a4e4-47ae-8cc6-d3f941a697f0"
      },
      "execution_count": 2,
      "outputs": [
        {
          "output_type": "stream",
          "name": "stdout",
          "text": [
            "\n",
            "1 \n",
            "2 2 \n",
            "3 3 3 \n",
            "4 4 4 4 \n",
            "5 5 5 5 5 \n"
          ]
        }
      ]
    },
    {
      "cell_type": "code",
      "source": [
        "rows = 5\n",
        "for i in range(1, rows + 1):\n",
        "    for j in range(1, i + 1):\n",
        "        print(j, end=' ')\n",
        "    print('')"
      ],
      "metadata": {
        "colab": {
          "base_uri": "https://localhost:8080/"
        },
        "id": "STsThPvkX8i9",
        "outputId": "38514648-862e-4b63-a025-894b04e79a87"
      },
      "execution_count": 3,
      "outputs": [
        {
          "output_type": "stream",
          "name": "stdout",
          "text": [
            "1 \n",
            "1 2 \n",
            "1 2 3 \n",
            "1 2 3 4 \n",
            "1 2 3 4 5 \n"
          ]
        }
      ]
    },
    {
      "cell_type": "code",
      "source": [
        "rows = 5\n",
        "b = 0\n",
        "# reverse for loop from 5 to 0\n",
        "for i in range(rows, 0, -1):\n",
        "    b += 1\n",
        "    for j in range(1, i + 1):\n",
        "        print(b, end=' ')\n",
        "    print('\\r')"
      ],
      "metadata": {
        "colab": {
          "base_uri": "https://localhost:8080/"
        },
        "id": "9JoB63-eYALt",
        "outputId": "33ca6f04-a298-47fa-d67f-41240a3507c7"
      },
      "execution_count": 4,
      "outputs": [
        {
          "output_type": "stream",
          "name": "stdout",
          "text": [
            "1 1 1 1 1 \r\n",
            "2 2 2 2 \r\n",
            "3 3 3 \r\n",
            "4 4 \r\n",
            "5 \r\n"
          ]
        }
      ]
    },
    {
      "cell_type": "code",
      "source": [
        "rows = 5\n",
        "num = rows\n",
        "# reverse for loop\n",
        "for i in range(rows, 0, -1):\n",
        "    for j in range(0, i):\n",
        "        print(num, end=' ')\n",
        "    print(\"\\r\")\n"
      ],
      "metadata": {
        "colab": {
          "base_uri": "https://localhost:8080/"
        },
        "id": "7ACSyLCEYDKt",
        "outputId": "a30e7368-d931-40f8-cc57-aa7f91f11ec0"
      },
      "execution_count": 5,
      "outputs": [
        {
          "output_type": "stream",
          "name": "stdout",
          "text": [
            "5 5 5 5 5 \r\n",
            "5 5 5 5 \r\n",
            "5 5 5 \r\n",
            "5 5 \r\n",
            "5 \r\n"
          ]
        }
      ]
    },
    {
      "cell_type": "code",
      "source": [
        "rows = 5\n",
        "for i in range(rows, 0, -1):\n",
        "    for j in range(0, i + 1):\n",
        "        print(j, end=' ')\n",
        "    print(\"\\r\")\n"
      ],
      "metadata": {
        "colab": {
          "base_uri": "https://localhost:8080/"
        },
        "id": "Dahi9CLWYFnk",
        "outputId": "b75fe93b-3fed-491c-bab8-8a1bac91985e"
      },
      "execution_count": 6,
      "outputs": [
        {
          "output_type": "stream",
          "name": "stdout",
          "text": [
            "0 1 2 3 4 5 \r\n",
            "0 1 2 3 4 \r\n",
            "0 1 2 3 \r\n",
            "0 1 2 \r\n",
            "0 1 \r\n"
          ]
        }
      ]
    },
    {
      "cell_type": "code",
      "source": [
        "rows = 5\n",
        "i = 1\n",
        "while i <= rows:\n",
        "    j = 1\n",
        "    while j <= i:\n",
        "        print((i * 2 - 1), end=\" \")\n",
        "        j = j + 1\n",
        "    i = i + 1\n",
        "    print('')\n"
      ],
      "metadata": {
        "colab": {
          "base_uri": "https://localhost:8080/"
        },
        "id": "6mNhvKOCYNmS",
        "outputId": "43f892b5-76e4-4b81-8d95-638bef23e1a8"
      },
      "execution_count": 7,
      "outputs": [
        {
          "output_type": "stream",
          "name": "stdout",
          "text": [
            "1 \n",
            "3 3 \n",
            "5 5 5 \n",
            "7 7 7 7 \n",
            "9 9 9 9 9 \n"
          ]
        }
      ]
    },
    {
      "cell_type": "code",
      "source": [
        "rows = 5\n",
        "# reverse loop\n",
        "for i in range(rows, 0, -1):\n",
        "    num = i\n",
        "    for j in range(0, i):\n",
        "        print(num, end=' ')\n",
        "    print(\"\\r\")\n"
      ],
      "metadata": {
        "colab": {
          "base_uri": "https://localhost:8080/"
        },
        "id": "CEQ7pPSaYRO0",
        "outputId": "cd8f88ce-8e99-4479-ff4f-4ae806c76bb5"
      },
      "execution_count": 8,
      "outputs": [
        {
          "output_type": "stream",
          "name": "stdout",
          "text": [
            "5 5 5 5 5 \r\n",
            "4 4 4 4 \r\n",
            "3 3 3 \r\n",
            "2 2 \r\n",
            "1 \r\n"
          ]
        }
      ]
    },
    {
      "cell_type": "code",
      "source": [
        "rows = 6\n",
        "for i in range(1, rows):\n",
        "    for j in range(i, 0, -1):\n",
        "        print(j, end=' ')\n",
        "    print(\"\")\n"
      ],
      "metadata": {
        "colab": {
          "base_uri": "https://localhost:8080/"
        },
        "id": "_i9ngIDLYUCb",
        "outputId": "4cf0093f-d4ed-4871-f640-f443386ca9be"
      },
      "execution_count": 9,
      "outputs": [
        {
          "output_type": "stream",
          "name": "stdout",
          "text": [
            "1 \n",
            "2 1 \n",
            "3 2 1 \n",
            "4 3 2 1 \n",
            "5 4 3 2 1 \n"
          ]
        }
      ]
    },
    {
      "cell_type": "code",
      "source": [
        "rows = 5\n",
        "for i in range(0, rows + 1):\n",
        "    for j in range(rows - i, 0, -1):\n",
        "        print(j, end=' ')\n",
        "    print()"
      ],
      "metadata": {
        "colab": {
          "base_uri": "https://localhost:8080/"
        },
        "id": "IeVKjMoLYcpV",
        "outputId": "4f166090-75bc-4bfd-ea52-2bb179ef8dd8"
      },
      "execution_count": 10,
      "outputs": [
        {
          "output_type": "stream",
          "name": "stdout",
          "text": [
            "5 4 3 2 1 \n",
            "4 3 2 1 \n",
            "3 2 1 \n",
            "2 1 \n",
            "1 \n",
            "\n"
          ]
        }
      ]
    },
    {
      "cell_type": "code",
      "source": [
        "rows = 6\n",
        "for i in range(1, rows):\n",
        "    num = 1\n",
        "    for j in range(rows, 0, -1):\n",
        "        if j > i:\n",
        "            print(\" \", end=' ')\n",
        "        else:\n",
        "            print(num, end=' ')\n",
        "            num += 1\n",
        "    print(\"\")\n"
      ],
      "metadata": {
        "colab": {
          "base_uri": "https://localhost:8080/"
        },
        "id": "ZwYGlfAQYnJS",
        "outputId": "a05bc11b-15b1-40bd-92d7-dfc6a6286677"
      },
      "execution_count": 11,
      "outputs": [
        {
          "output_type": "stream",
          "name": "stdout",
          "text": [
            "          1 \n",
            "        1 2 \n",
            "      1 2 3 \n",
            "    1 2 3 4 \n",
            "  1 2 3 4 5 \n"
          ]
        }
      ]
    },
    {
      "cell_type": "code",
      "source": [
        "rows = 8\n",
        "# rows = int(input(\"Enter the number of rows \"))\n",
        "for i in range(1, rows + 1):\n",
        "    for j in range(1, i + 1):\n",
        "        # multiplication current column and row\n",
        "        square = i * j\n",
        "        print(i * j, end='  ')\n",
        "    print()\n"
      ],
      "metadata": {
        "colab": {
          "base_uri": "https://localhost:8080/"
        },
        "id": "eQ7Ju08iYyq0",
        "outputId": "73d52cf6-2828-4fee-f622-aff51cf56006"
      },
      "execution_count": 12,
      "outputs": [
        {
          "output_type": "stream",
          "name": "stdout",
          "text": [
            "1  \n",
            "2  4  \n",
            "3  6  9  \n",
            "4  8  12  16  \n",
            "5  10  15  20  25  \n",
            "6  12  18  24  30  36  \n",
            "7  14  21  28  35  42  49  \n",
            "8  16  24  32  40  48  56  64  \n"
          ]
        }
      ]
    },
    {
      "cell_type": "code",
      "source": [],
      "metadata": {
        "id": "s1c0wZMjY7Rv"
      },
      "execution_count": null,
      "outputs": []
    }
  ]
}