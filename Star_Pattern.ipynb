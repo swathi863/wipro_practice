{
  "nbformat": 4,
  "nbformat_minor": 0,
  "metadata": {
    "colab": {
      "provenance": [],
      "authorship_tag": "ABX9TyOEZ+0cK4jq9lMbHyNpBE3g",
      "include_colab_link": true
    },
    "kernelspec": {
      "name": "python3",
      "display_name": "Python 3"
    },
    "language_info": {
      "name": "python"
    }
  },
  "cells": [
    {
      "cell_type": "markdown",
      "metadata": {
        "id": "view-in-github",
        "colab_type": "text"
      },
      "source": [
        "<a href=\"https://colab.research.google.com/github/swathi863/wipro_practice/blob/main/Star_Pattern.ipynb\" target=\"_parent\"><img src=\"https://colab.research.google.com/assets/colab-badge.svg\" alt=\"Open In Colab\"/></a>"
      ]
    },
    {
      "cell_type": "code",
      "execution_count": 22,
      "metadata": {
        "colab": {
          "base_uri": "https://localhost:8080/"
        },
        "id": "qDaPeUYgXTGV",
        "outputId": "78b426c1-8ff9-4786-acc0-057a17d0953a"
      },
      "outputs": [
        {
          "output_type": "stream",
          "name": "stdout",
          "text": [
            "enter no.of rows:5\n",
            "*  \n",
            "*  *  \n",
            "*  *  *  \n",
            "*  *  *  *  \n",
            "*  *  *  *  *  \n"
          ]
        }
      ],
      "source": [
        "#pattens with stars\n",
        "n=int(input(\"enter no.of rows:\"))\n",
        "for i in range(0,n):\n",
        "  for j in range(0,i+1):\n",
        "    print(\"*\",end=\"  \")\n",
        "  print()"
      ]
    },
    {
      "cell_type": "code",
      "source": [
        "#pattens with stars\n",
        "n=int(input(\"enter no.of rows:\"))\n",
        "for i in range(n+1,0,-1):\n",
        "  for j in range(0,i-1):\n",
        "    print(\"*\",end=\"  \")\n",
        "  print()"
      ],
      "metadata": {
        "colab": {
          "base_uri": "https://localhost:8080/"
        },
        "id": "TACxxfLia5eY",
        "outputId": "12152d8d-ce7f-404c-d61b-2f4a310485e9"
      },
      "execution_count": 26,
      "outputs": [
        {
          "output_type": "stream",
          "name": "stdout",
          "text": [
            "enter no.of rows:6\n",
            "*  *  *  *  *  *  \n",
            "*  *  *  *  *  \n",
            "*  *  *  *  \n",
            "*  *  *  \n",
            "*  *  \n",
            "*  \n",
            "\n"
          ]
        }
      ]
    },
    {
      "cell_type": "code",
      "source": [
        "n=int(input(\"enter no.of rows:\"))\n",
        "k=2*n-2\n",
        "for i in range(n):\n",
        "  for j in range(0,k):\n",
        "    print(end=\" \")\n",
        "  k=k-2\n",
        "  for j in range(i+1):\n",
        "    print(\"*\",end=\" \")\n",
        "  print()"
      ],
      "metadata": {
        "colab": {
          "base_uri": "https://localhost:8080/"
        },
        "id": "fkdgW9m4dKs1",
        "outputId": "2d896856-a52b-4da9-805c-95a8fbcbdea4"
      },
      "execution_count": 31,
      "outputs": [
        {
          "output_type": "stream",
          "name": "stdout",
          "text": [
            "enter no.of rows:5\n",
            "        * \n",
            "      * * \n",
            "    * * * \n",
            "  * * * * \n",
            "* * * * * \n"
          ]
        }
      ]
    },
    {
      "cell_type": "code",
      "source": [
        "for j in range(1,5+1):\n",
        "    print(\"*\"*j)"
      ],
      "metadata": {
        "colab": {
          "base_uri": "https://localhost:8080/"
        },
        "id": "zwcgzbsievUO",
        "outputId": "7c9becca-70a5-4ee1-c342-f256e64eaf5b"
      },
      "execution_count": 35,
      "outputs": [
        {
          "output_type": "stream",
          "name": "stdout",
          "text": [
            "*\n",
            "**\n",
            "***\n",
            "****\n",
            "*****\n"
          ]
        }
      ]
    },
    {
      "cell_type": "code",
      "source": [
        "n=int(input(\"enter the rows:\"))\n",
        "k=2*n-2\n",
        "for  i in range(n,-1,-1):\n",
        "  for j in range(k,0,-1):\n",
        "    print(end=\" \")\n",
        "  k=k+1\n",
        "  for j in range(0,i+1):\n",
        "    print(\"*\",end=\" \")\n",
        "  print()"
      ],
      "metadata": {
        "colab": {
          "base_uri": "https://localhost:8080/"
        },
        "id": "k0_bF6BDffgW",
        "outputId": "3ff96a32-617c-4064-af38-558700193e89"
      },
      "execution_count": 45,
      "outputs": [
        {
          "output_type": "stream",
          "name": "stdout",
          "text": [
            "enter the rows:5\n",
            "        * * * * * * \n",
            "         * * * * * \n",
            "          * * * * \n",
            "           * * * \n",
            "            * * \n",
            "             * \n"
          ]
        }
      ]
    },
    {
      "cell_type": "code",
      "source": [
        "n=int(input(\"enter the rows:\"))\n",
        "k=(2*n)-2\n",
        "for  i in range(0,n):\n",
        "  for j in range(0,k):\n",
        "    print(end=\" \")\n",
        "  k=k-1\n",
        "  for j in range(0,i+1):\n",
        "    print(\"*\",end=\" \")\n",
        "  print()"
      ],
      "metadata": {
        "colab": {
          "base_uri": "https://localhost:8080/"
        },
        "id": "uZngPe7_i9_T",
        "outputId": "11971191-9f47-426e-9faa-6922e50555bb"
      },
      "execution_count": 49,
      "outputs": [
        {
          "output_type": "stream",
          "name": "stdout",
          "text": [
            "enter the rows:6\n",
            "          * \n",
            "         * * \n",
            "        * * * \n",
            "       * * * * \n",
            "      * * * * * \n",
            "     * * * * * * \n"
          ]
        }
      ]
    },
    {
      "cell_type": "code",
      "source": [
        "for i in range(0,6):\n",
        "  for j in range(i+1):\n",
        "    print(\"*\",end=\" \")\n",
        "  print(\" \")\n",
        "print(\" \")\n",
        "\n",
        "for i in range(6,0,-1):\n",
        "  for j in range(i):\n",
        "    print(\"*\",end=\" \")\n",
        "  print(\" \")"
      ],
      "metadata": {
        "colab": {
          "base_uri": "https://localhost:8080/"
        },
        "id": "6OxyPe8yjpb5",
        "outputId": "7314d88e-17a2-496a-bf2c-921b8cd6cd55"
      },
      "execution_count": 58,
      "outputs": [
        {
          "output_type": "stream",
          "name": "stdout",
          "text": [
            "*  \n",
            "* *  \n",
            "* * *  \n",
            "* * * *  \n",
            "* * * * *  \n",
            "* * * * * *  \n",
            " \n",
            "* * * * * *  \n",
            "* * * * *  \n",
            "* * * *  \n",
            "* * *  \n",
            "* *  \n",
            "*  \n"
          ]
        }
      ]
    },
    {
      "cell_type": "code",
      "source": [
        "for i in range(0,6):\n",
        "  for j in range(i+1):\n",
        "    print(\"*\",end=\" \")\n",
        "  print(\" \")\n",
        "\n",
        "\n",
        "for i in range(5,0,-1):\n",
        "  for j in range(i):\n",
        "    print(\"*\",end=\" \")\n",
        "  print(\" \")"
      ],
      "metadata": {
        "colab": {
          "base_uri": "https://localhost:8080/"
        },
        "id": "G7lfvI8Bk5MH",
        "outputId": "d8f6ff2e-4aae-45c4-ff9d-1f19a181822f"
      },
      "execution_count": 59,
      "outputs": [
        {
          "output_type": "stream",
          "name": "stdout",
          "text": [
            "*  \n",
            "* *  \n",
            "* * *  \n",
            "* * * *  \n",
            "* * * * *  \n",
            "* * * * * *  \n",
            "* * * * *  \n",
            "* * * *  \n",
            "* * *  \n",
            "* *  \n",
            "*  \n"
          ]
        }
      ]
    },
    {
      "cell_type": "code",
      "source": [
        "rows=6\n",
        "k=2*rows-2\n",
        "for i in range(0,rows):\n",
        "  for j in range(0,k):\n",
        "    print(end=\" \")\n",
        "  k-=2\n",
        "  for j in range(i+1):\n",
        "    print(\"*\",end=\" \")\n",
        "  print()\n",
        "for i in range(rows-1,-1,-1):\n",
        "  for j in range(rows-i):\n",
        "    print(\" \",end=\" \")\n",
        "  for j in range(0,i):\n",
        "    print(\"*\",end=\" \")\n",
        "  print()"
      ],
      "metadata": {
        "colab": {
          "base_uri": "https://localhost:8080/"
        },
        "id": "6x4zIqWElBzZ",
        "outputId": "12d79704-7603-45c7-8f74-916cf352854a"
      },
      "execution_count": 76,
      "outputs": [
        {
          "output_type": "stream",
          "name": "stdout",
          "text": [
            "          * \n",
            "        * * \n",
            "      * * * \n",
            "    * * * * \n",
            "  * * * * * \n",
            "* * * * * * \n",
            "  * * * * * \n",
            "    * * * * \n",
            "      * * * \n",
            "        * * \n",
            "          * \n",
            "            \n"
          ]
        }
      ]
    },
    {
      "cell_type": "code",
      "source": [
        "rows=5\n",
        "for i in range(rows,-1,-1):\n",
        "  for j in range(i):\n",
        "    print(\"*\",end=\" \")\n",
        "  print(\"  \")"
      ],
      "metadata": {
        "colab": {
          "base_uri": "https://localhost:8080/"
        },
        "id": "0sLif-JroWGh",
        "outputId": "3d5f1781-3046-492c-b2af-058ac2612604"
      },
      "execution_count": 87,
      "outputs": [
        {
          "output_type": "stream",
          "name": "stdout",
          "text": [
            "* * * * *   \n",
            "* * * *   \n",
            "* * *   \n",
            "* *   \n",
            "*   \n",
            "  \n"
          ]
        }
      ]
    },
    {
      "cell_type": "code",
      "source": [
        "rows=5\n",
        "for i in range(rows):\n",
        "  for j in range(i):\n",
        "    print(\" \",end=\"\")\n",
        "  for j in range(rows-i):\n",
        "    print(\"*\",end=\" \")\n",
        "  print()\n",
        "for i in range(rows):\n",
        "  for j in range(rows-i-1):\n",
        "    print(\" \",end=\"\")\n",
        "  for j in range(i+1):\n",
        "    print(\"*\",end=\" \")\n",
        "  print(\" \")\n",
        "\n",
        ""
      ],
      "metadata": {
        "colab": {
          "base_uri": "https://localhost:8080/"
        },
        "id": "2CUAmU9BqSsv",
        "outputId": "0e2c1c6b-093a-4c48-d2f5-f0cfae2fa941"
      },
      "execution_count": 91,
      "outputs": [
        {
          "output_type": "stream",
          "name": "stdout",
          "text": [
            "* * * * * \n",
            " * * * * \n",
            "  * * * \n",
            "   * * \n",
            "    * \n",
            "    *  \n",
            "   * *  \n",
            "  * * *  \n",
            " * * * *  \n",
            "* * * * *  \n"
          ]
        }
      ]
    },
    {
      "cell_type": "code",
      "source": [
        "rows=5\n",
        "for i in range(rows-1):\n",
        "  for j in range(rows-i-1):\n",
        "    print(\" \",end=\"\")\n",
        "  for j in range(i+1):\n",
        "    print(\"*\",end=\" \")\n",
        "  print(\" \")\n",
        "for i in range(rows):\n",
        "  for j in range(i):\n",
        "    print(\" \",end=\"\")\n",
        "  for j in range(rows-i):\n",
        "    print(\"*\",end=\" \")\n",
        "  print()\n"
      ],
      "metadata": {
        "colab": {
          "base_uri": "https://localhost:8080/"
        },
        "id": "O4vkveT9sjR_",
        "outputId": "e104c31a-c708-428d-aa3f-78a78fb333c0"
      },
      "execution_count": 95,
      "outputs": [
        {
          "output_type": "stream",
          "name": "stdout",
          "text": [
            "    *  \n",
            "   * *  \n",
            "  * * *  \n",
            " * * * *  \n",
            "* * * * * \n",
            " * * * * \n",
            "  * * * \n",
            "   * * \n",
            "    * \n"
          ]
        }
      ]
    }
  ]
}